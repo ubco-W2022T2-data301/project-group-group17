{
 "cells": [
  {
   "cell_type": "markdown",
   "metadata": {},
   "source": [
    "# Conan Shing"
   ]
  },
  {
   "cell_type": "markdown",
   "metadata": {},
   "source": [
    "## Research Interests:\n",
    "\n",
    "My background is in integrative physiology research where I have been exposed to both the process of data collection and intial exploratory data analysis where descriptive stats, summary tables, and intial data visuilizations are produced. That intial EDA often involves heavy cleaning of our raw data before being imported in R studio for further analysis. My reserch intrests in my academic life revolve around identify sex differences in physiological responses in male and females, so no better comparrison than identifiying how the ratio of male to female medal holders compare across countries. My personal background is high performance sport, a passio I bring into the lab and my everyday life. As such there is no better data set than olympic results. My research questions are listed and summarized below: \n",
    "\n",
    "##  Q1: How does the ratio of male to female medal holders vary across years. \n",
    "\n",
    "To answer this question I aim to compare the ammount of male vs female medla holders in the top contrey each year and identify if certain countries house predomenatly female or male medal winners. I first plan to use the medal results data, group by country and identify the number male and female medal holders for each country. From there I hope to identify which country containes the most male and most female medal holders. I would like to present this as a diffrence of male and female medal holders so I will need to add a column for each country with the number of medals won by men and women. I would also like to see how this changes over time. I would like to present this as a bar graph showing the proportion of male medal winners and female medal winners for each years top winning country. Next I would like to create a line plot showing how the diffrence of male vs female medal discrepency changes over time. \n",
    "\n",
    "## Q2: How does the country with the most medal holders at each game change over time and is this title associated with being the host country. \n",
    "\n",
    "\n",
    "To answer this question I plan to summarise the total number of medals attained at each game by country and identify the overall winner. From there I hope to compile a new sumarised data set where each country that attended the games have a total number of medals won where I then hope to plot all attendeing countries over time to see how the medal holding leaders change over time. I would also like to see if this has to do with being the host country that year. To do so I plan to compare avg medals won by non host countries attending the games and avg medals won by host countries. Out of intrest I would also like to see if this changes over time. \n",
    "\n",
    "For both my research questions some data wrangling will be needed. I most likely will combine the medal and host data sets to answer my second question and utilize the medals data set for my first. \n",
    "\n"
   ]
  },
  {
   "cell_type": "code",
   "execution_count": 14,
   "metadata": {},
   "outputs": [
    {
     "ename": "ImportError",
     "evalue": "attempted relative import with no known parent package",
     "output_type": "error",
     "traceback": [
      "\u001b[1;31m---------------------------------------------------------------------------\u001b[0m",
      "\u001b[1;31mImportError\u001b[0m                               Traceback (most recent call last)",
      "Cell \u001b[1;32mIn[14], line 9\u001b[0m\n\u001b[0;32m      6\u001b[0m \u001b[38;5;28;01mimport\u001b[39;00m \u001b[38;5;21;01mseaborn\u001b[39;00m \u001b[38;5;28;01mas\u001b[39;00m \u001b[38;5;21;01msns\u001b[39;00m\n\u001b[0;32m      7\u001b[0m \u001b[38;5;28;01mfrom\u001b[39;00m \u001b[38;5;21;01mscipy\u001b[39;00m \u001b[38;5;28;01mimport\u001b[39;00m stats\n\u001b[1;32m----> 9\u001b[0m \u001b[38;5;28;01mfrom\u001b[39;00m \u001b[38;5;21;01m.\u001b[39;00m\u001b[38;5;21;01mproject_function\u001b[39;00m \u001b[38;5;28;01mimport\u001b[39;00m project_functions_conan \u001b[38;5;28;01mas\u001b[39;00m pf\n",
      "\u001b[1;31mImportError\u001b[0m: attempted relative import with no known parent package"
     ]
    }
   ],
   "source": [
    "# setting up packages\n",
    "\n",
    "import numpy as np \n",
    "import pandas as pd \n",
    "import matplotlib.pyplot as plt\n",
    "import seaborn as sns\n",
    "from scipy import stats\n",
    "\n",
    "from .project_function import project_functions_conan as pf"
   ]
  },
  {
   "cell_type": "code",
   "execution_count": 2,
   "metadata": {},
   "outputs": [],
   "source": [
    "# Set up visualization \n",
    "\n",
    "sns.set_theme(style=\"ticks\",\n",
    "              font_scale=1.3\n",
    "             )"
   ]
  },
  {
   "cell_type": "code",
   "execution_count": 3,
   "metadata": {},
   "outputs": [],
   "source": [
    "# loading data sets\n",
    "\n",
    "df_2022athlete = pd.read_csv(\"../../data/raw/Beijing_2022_Olympic_Winter_Games/athletes.csv\")\n",
    "df_2022medals = pd.read_csv(\"../../data/raw/Beijing_2022_Olympic_Winter_Games/medals.csv\")\n",
    "df_hosts = pd.read_csv(\"../../data/raw/Olympic_Summer_Winter_Games_1986-2022/olympic_hosts.csv\")\n",
    "df_medals = pd.read_csv(\"../../data/raw/Olympic_Summer_Winter_Games_1986-2022/olympic_medals.csv\")\n",
    "df_results = pd.read_csv(\"../../data/raw/Olympic_Summer_Winter_Games_1986-2022/olympic_results.csv\")\n",
    "\n",
    "#df_2022athlete.head()\n",
    "#df_2022medals.head()\n",
    "#df_hosts.head()\n",
    "#df_medals.head()\n",
    "#df_results.head()"
   ]
  },
  {
   "cell_type": "markdown",
   "metadata": {},
   "source": [
    "# Q1 EDA and Data vis"
   ]
  },
  {
   "cell_type": "code",
   "execution_count": null,
   "metadata": {},
   "outputs": [],
   "source": [
    "# Function testing to prep data (move to .py)\n",
    "\n",
    "def q1_load_process(url_or_path_to_csv_file):\n",
    "    \n",
    "    df_medals = pd.read_csv(url_or_path_to_csv_file)\n",
    "    \n",
    "    df = df_medals\n",
    "    \n",
    "    df = (df.drop(['event_title', 'participant_title', 'athlete_url', 'athlete_full_name', 'country_code', 'country_3_letter_code'], axis = 'columns')\n",
    "          .assign(slug_game=df['slug_game'].str[-4:])\n",
    "          .rename(columns={'slug_game': 'year'})\n",
    "          .reset_index())\n",
    "    \n",
    "    df = (df.drop(['index'], axis = 'columns')\n",
    "          .assign(medal_bysex=df.groupby(['medal_type', 'event_gender', 'country_name', 'year'])['medal_type'].transform('count'),\n",
    "                  medal_all_bysex=df.groupby(['event_gender', 'country_name', 'year'])['medal_type'].transform('count'),\n",
    "                  medal_total=df.groupby(['medal_type', 'country_name', 'year'])['medal_type'].transform('count'),\n",
    "                  medal_all=df.groupby(['country_name', 'year'])['medal_type'].transform('count')))\n",
    "    \n",
    "    df['medal_%'] = ((df['medal_bysex']/df['medal_total'])*100)\n",
    "    \n",
    "    return df\n",
    "\n"
   ]
  },
  {
   "cell_type": "code",
   "execution_count": null,
   "metadata": {},
   "outputs": [],
   "source": [
    "# confirming function test (keep this here)\n",
    "\n",
    "df = q1_load_process(\"../../data/raw/Olympic_Summer_Winter_Games_1986-2022/olympic_medals.csv\")\n",
    "\n",
    "### renaming df for future use\n",
    "medal_bysex = df\n",
    "medal_bysex\n",
    "### Sanity check to make sure things are working right\n",
    "medal_bysex.sample(10)"
   ]
  },
  {
   "cell_type": "code",
   "execution_count": null,
   "metadata": {},
   "outputs": [],
   "source": [
    "# Function testing to show top 10 medal winners (move to .py)\n",
    "\n",
    "def q1_plot_prep(data_frame):\n",
    "    \n",
    "    df = data_frame\n",
    "    \n",
    "    df = (df.sort_values(by=['medal_all'], ascending = False).groupby('year').head(10).reset_index()\n",
    "          .drop(['index'], axis= \"columns\")\n",
    "          .groupby('country_name', group_keys=False).apply(lambda x: x.loc[x.medal_all.idxmax()]).sort_values('medal_all',ascending = False).groupby('year').head(10))\n",
    "    \n",
    "    return df\n",
    "\n"
   ]
  },
  {
   "cell_type": "code",
   "execution_count": null,
   "metadata": {},
   "outputs": [],
   "source": [
    "# Function confirmation and show plot (keep this here)\n",
    "\n",
    "df = q1_plot_prep(medal_bysex)\n",
    "\n",
    "plot = sns.barplot(x=\"medal_all\", y=\"country_name\", data=df,\n",
    "                   label=\"Total Medals Won\", color=\"b\")\n",
    "plot.set(ylabel =\"Number of Medals\", xlabel =\"Country Name\", title = \"Who are the top 10 ever medal winners\")\n",
    "sns.despine()\n",
    "\n",
    "plot\n",
    "\n",
    "# next steps would be to see what portion of these resutls were from males vs females \n",
    "# I would like to create a facet grid plot where top 10 medal winners from each games were ploted every year with the\n",
    "# males vs female contribution was provided"
   ]
  },
  {
   "cell_type": "markdown",
   "metadata": {},
   "source": [
    "## Q1 Final analysis and presentation plots"
   ]
  },
  {
   "cell_type": "code",
   "execution_count": null,
   "metadata": {},
   "outputs": [],
   "source": [
    "# Final analysis function testing (move to .py)\n",
    "\n",
    "def male_medals(df, search_str, col1, col2):\n",
    "\n",
    "    mask = df.apply(lambda row: search_str in row.values, axis=1)\n",
    "    df.loc[mask, \"medal_all_bysex\"] = df[col1] - df[col2]\n",
    "\n",
    "\n",
    "def q1_final_analysis(data_frame):\n",
    "    \n",
    "    df = data_frame\n",
    "    df = df[df['event_gender'].str.contains('Open|Mixed' )==False]\n",
    "    \n",
    "    df = (df.sort_values(by=['medal_all'], ascending = False).groupby('year').head(10).reset_index()\n",
    "          .drop(['index'], axis= \"columns\")\n",
    "          .groupby('year', as_index=False).apply(lambda x: x.loc[x.medal_all.idxmax()]).sort_values('medal_all',ascending = False).groupby('year').head(1)\n",
    "          .sort_values(by=['year']))\n",
    "    \n",
    "    male_medals(df, 'Women', 'medal_all', 'medal_all_bysex')\n",
    "    \n",
    "    return df\n",
    "    \n",
    "\n",
    "def q1_pres_plot(data_frame):\n",
    "\n",
    "    df = data_frame\n",
    "    \n",
    "    df1 = (df\n",
    "           .drop(['discipline_title', 'medal_type', 'participant_type', 'medal_bysex', 'medal_total', 'event_gender'], axis='columns')\n",
    "           .assign(medal_female=df['medal_all'] - df['medal_all_bysex']))\n",
    "    \n",
    "    df1 = (df1.assign(medal_diff=df1['medal_all_bysex'] - df1['medal_female'])\n",
    "           .rename(columns={'year' : 'Year',\n",
    "                            'country_name' : 'Country',\n",
    "                            'medal_all_bysex' : 'Male Medal Winners',\n",
    "                            'medal_all' : 'Total Medals Won',\n",
    "                            'medal_female' : 'Female Medal Winners',\n",
    "                            'medal_diff' : 'Male vs Female Diffrence'}))\n",
    "    \n",
    "    return df1\n",
    "    "
   ]
  },
  {
   "cell_type": "code",
   "execution_count": null,
   "metadata": {},
   "outputs": [],
   "source": [
    "# function testing (keep this)\n",
    "\n",
    "df = q1_final_analysis(medal_bysex)\n",
    "\n",
    "df1 = q1_pres_plot(df)"
   ]
  },
  {
   "cell_type": "code",
   "execution_count": null,
   "metadata": {},
   "outputs": [],
   "source": [
    "# Q1 final analysis and plots (keep this)\n",
    "\n",
    "plt.figure(figsize=(15,6))\n",
    "#Plot the total medals won\n",
    "sns.set_color_codes(\"pastel\")\n",
    "plot = sns.barplot(y=\"medal_all\", x=\"year\", data=df,\n",
    "            label=\"Female\", color=\"red\")\n",
    "\n",
    "# Plot the male medals won\n",
    "sns.set_color_codes(\"muted\")\n",
    "plot = sns.barplot(y=\"medal_all_bysex\", x=\"year\", data=df,\n",
    "            label=\"Male Medals\", color=\"b\")\n",
    "\n",
    "plt.xticks(rotation=90)\n",
    "plot.legend(ncol=2, loc=\"upper right\", frameon=False)\n",
    "plot.set(xlabel = \"Year\", ylabel =\"Number of Medals Won\", title = \"Comparison of The Top Country's Male and Female Medal Winners Each Year\")\n",
    "plot.set_ylim(0, 300)\n"
   ]
  },
  {
   "cell_type": "code",
   "execution_count": null,
   "metadata": {},
   "outputs": [],
   "source": [
    "#plot change in medal winner discrepency over time (keep this)\n",
    "\n",
    "plt.figure(figsize=(15,6))\n",
    "\n",
    "plot1 = sns.lineplot(x=\"Year\", y=\"Male vs Female Diffrence\", data=df1, label=\"Difference\", color=\"red\")\n",
    "plot1.set(xlabel = \"Year\", ylabel= 'Difference Between Male and Female Medal Winners', title = \"Gender Differences in Medal Winners Over Time\")\n",
    "\n",
    "plt.xticks(rotation=90)\n",
    "plot1.set_ylim(-60, 300)\n",
    "plot1.axhline(0, color=\"r\", linestyle='--')\n",
    "plot1.legend(loc=\"upper right\", frameon=False)\n",
    "\n",
    "plot1"
   ]
  },
  {
   "cell_type": "code",
   "execution_count": null,
   "metadata": {},
   "outputs": [],
   "source": [
    "# Q1 final analysis and summary table (keep this)\n",
    "\n",
    "output = df1\n",
    "output"
   ]
  },
  {
   "cell_type": "markdown",
   "metadata": {},
   "source": [
    "### Q1 Conclusions \n",
    "\n",
    "Above I show the number of medals won by the top country each year split into male and total medal winners. I've excluded open and mixed sports for simplicity and to compare the absolute nubmer of male medal winners to female medal winners. It appears just by looking at the plot males appear to win more medals however after 1994 this appears to even out a bit although that claim can not be validated just by looking at it. Fortunatly There is a table that tells you what years females did better than males at the games. We can see that in 1998, 2008, 2012, and 2020 females made up a greater portion of the total medals won compared to males. In the grand scheme of things males appear to make up a greater portion of medals won by the top country at each years games however this trend is reducing with the more recent games. "
   ]
  },
  {
   "cell_type": "markdown",
   "metadata": {},
   "source": [
    "# Q2 EDA and Data vis"
   ]
  },
  {
   "cell_type": "code",
   "execution_count": null,
   "metadata": {},
   "outputs": [],
   "source": [
    "# function testing (move to .py)\n",
    "\n",
    "def q2_merge(data1, data2):\n",
    "    \n",
    "    df1 = data1\n",
    "    \n",
    "    ### preparing df_hosts for merge \n",
    "    \n",
    "    df1 = df1.drop(['game_slug', 'game_end_date', 'game_start_date', 'game_name'], axis = 'columns').rename(columns={'game_year' : 'year'})\n",
    "    \n",
    "    ### preparing df_medals for merge\n",
    "    df2 = medal_bysex\n",
    "    df2['year'] = df2['year'].astype(int)\n",
    "    \n",
    "    ### merging both dataframes together\n",
    "    df_merge = df1.merge(df2, how='inner', on='year')\n",
    "    \n",
    "    return df_merge\n",
    "\n",
    "\n"
   ]
  },
  {
   "cell_type": "code",
   "execution_count": null,
   "metadata": {},
   "outputs": [],
   "source": [
    "# Q2 EDA (keep this)\n",
    "df_merge = q2_merge(df_hosts, medal_bysex)\n",
    "\n",
    "df_merge"
   ]
  },
  {
   "cell_type": "code",
   "execution_count": null,
   "metadata": {},
   "outputs": [],
   "source": [
    "# Q2 Data vis\n",
    "\n",
    "# which country has hosted the games the most? \n",
    "plt.figure(figsize=(10,10))\n",
    "\n",
    "plot = sns.countplot(df1, y=\"game_location\",\n",
    "                     order = (df1['game_location'].value_counts().index),\n",
    "                     hue = 'game_season') \n",
    "\n",
    "plot.set(xlabel =\"Number of Times Hosting\", ylabel =\"Country Name\", title = \"How Many Times Has Each Host Country Hosted a Games\")\n",
    "plt.legend(title='Game Season', frameon=False)\n",
    "sns.despine()\n",
    "\n",
    "plot"
   ]
  },
  {
   "cell_type": "code",
   "execution_count": null,
   "metadata": {},
   "outputs": [],
   "source": [
    "# reshow the most ever won medals, lets compare how the 2 plots differ \n",
    "\n",
    "df = q1_plot_prep(medal_bysex)\n",
    "\n",
    "plot = sns.barplot(x=\"medal_all\", y=\"country_name\", data=df,\n",
    "                   label=\"Total Medals Won\", color=\"b\")\n",
    "plot.set(ylabel =\"Number of Medals\", xlabel =\"Country Name\", title = \"Who are the top 10 ever medal winners\")\n",
    "sns.despine()\n",
    "\n",
    "plot\n",
    "\n"
   ]
  },
  {
   "cell_type": "markdown",
   "metadata": {},
   "source": [
    "## Q2 Final analysis and plots"
   ]
  },
  {
   "cell_type": "code",
   "execution_count": null,
   "metadata": {},
   "outputs": [],
   "source": [
    "# Function testing (move to .py)\n",
    "\n",
    "def q2_plotprep(data1, data2):\n",
    "    \n",
    "    df1=data1\n",
    "    df=data2\n",
    "    \n",
    "    df1 = df1.drop(['game_slug', 'game_end_date', 'game_start_date', 'game_name'], axis = 'columns').rename(columns={'game_year' : 'year'})\n",
    "    df1['counts'] = df1.groupby(['game_location'])['game_location'].transform('count')\n",
    "    \n",
    "    df = (df.sort_values(by=['medal_all'], ascending = False).groupby('year').head(1).reset_index()\n",
    "          .drop(['index'], axis= \"columns\"))\n",
    "    \n",
    "    df_merge = df1.merge(df, how='inner', on='year')\n",
    "    \n",
    "    return df_merge\n",
    "       "
   ]
  },
  {
   "cell_type": "code",
   "execution_count": null,
   "metadata": {},
   "outputs": [],
   "source": [
    "# merging and preparing data frames for plotting \n",
    "\n",
    "df_merge = q2_plotprep(df_hosts, medal_bysex)"
   ]
  },
  {
   "cell_type": "code",
   "execution_count": null,
   "metadata": {},
   "outputs": [],
   "source": [
    "# plot relationship between times hosting and medals won\n",
    "\n",
    "plot = sns.catplot(data=df_merge, x=\"counts\", y=\"medal_all\", native_scale=True, zorder=1, height=4, aspect=2)\n",
    "plot = sns.regplot(data=df_merge, x=\"counts\", y=\"medal_all\", scatter=False, truncate=False, order=2, color=\".2\")\n",
    "\n",
    "plot.set_xticks([0,1,2,3,4,5,6,7,8])\n",
    "plot.set(xlabel =\"Number of Times Hosting\", ylabel =\"Number of medals won\", title = \"Relationship Between Number of Time Hosting and Medals Won\")\n",
    "plot"
   ]
  },
  {
   "cell_type": "markdown",
   "metadata": {},
   "source": [
    "### Q2 Conclusions"
   ]
  },
  {
   "cell_type": "markdown",
   "metadata": {},
   "source": [
    "# Q3 EDA and Data vis"
   ]
  },
  {
   "cell_type": "code",
   "execution_count": null,
   "metadata": {},
   "outputs": [],
   "source": [
    "# q3 function testing \n",
    "\n",
    "def q3_eda(data1, data2):\n",
    "    \n",
    "    df1 = data1.drop(['short_name', 'birth_date', 'country', 'birth_place', 'birth_country', 'country_code', 'discipline', 'discipline_code', 'residence_place', 'residence_country', 'height_m/ft', 'url'], axis= \"columns\")\n",
    "    \n",
    "    df2 = data2\n",
    "    df2 = (df2[['medal_type', 'athlete_name', 'country', 'discipline']]\n",
    "           .rename(columns={'athlete_name' : 'name'}))\n",
    "    \n",
    "    df_merged = df1.merge(df2, how='inner', on='name')\n",
    "    \n",
    "    return df_merged\n",
    "\n",
    "\n"
   ]
  },
  {
   "cell_type": "code",
   "execution_count": null,
   "metadata": {},
   "outputs": [],
   "source": [
    "# Q3: Which sport is most female and male dominated and does this differ by country? \n",
    "\n",
    "#### as it would be next to impossible to find datasets spanning back to the 1890s with accurate lists of athletes that were\n",
    "#### sent to each games I have chosen the 2022 olympics as it was recent and relevant to conduct my analysis\n",
    "\n",
    "#### combining 2022 athlete and medal data sets to add a sex column to the medals \n",
    "\n",
    "\n",
    "df_merged = q3_eda(df_2022athlete, df_2022medals)\n",
    "\n",
    "#### df_merged was prepared out of curiosoity not sure if I will use it"
   ]
  },
  {
   "cell_type": "code",
   "execution_count": null,
   "metadata": {},
   "outputs": [],
   "source": [
    "# Q3 add calculated columns function testing \n",
    "\n",
    "def q3_calc(data):\n",
    "    \n",
    "    df=data\n",
    "    \n",
    "    df=(df.drop(['short_name', 'birth_date', 'birth_place', 'birth_country', 'country_code', 'discipline', 'discipline_code', 'residence_place', 'residence_country', 'height_m/ft', 'url'], axis= \"columns\"))\n",
    "    \n",
    "    df=(df.assign(athlete_index = 1))\n",
    "    \n",
    "    df=(df.assign(athletes_sent = df.groupby(['country', 'gender'])['athlete_index'].transform('count'),\n",
    "                  athletes_total = df.groupby(['country'])['athlete_index'].transform('count'))\n",
    "        .replace(['M','F'],['Male', 'Female']))\n",
    "    \n",
    "    df['athlete_%']=((df['athletes_sent']/df['athletes_total'])*100)\n",
    "    \n",
    "    return df"
   ]
  },
  {
   "cell_type": "code",
   "execution_count": null,
   "metadata": {},
   "outputs": [],
   "source": [
    "df = q3_calc(df_2022athlete)"
   ]
  },
  {
   "cell_type": "code",
   "execution_count": null,
   "metadata": {},
   "outputs": [],
   "source": [
    "# Q3 Data vis \n",
    "\n",
    "plot = sns.catplot(data=df, kind=\"bar\",\n",
    "                   x=\"country\", y=\"athletes_sent\",\n",
    "                   errorbar=None,\n",
    "                   width=1,\n",
    "                   hue=\"gender\",\n",
    "                   height=6, aspect=3)\n",
    "\n",
    "plot.set_xticklabels(rotation=90)\n",
    "plot.set(ylabel =\"Number of Athlets sent\", title = \"Male and Female Athletes Sent to 2022 Olympics\")\n",
    "plt.xticks(fontsize=14)\n",
    "\n",
    "plot\n",
    "\n",
    "### It seemes that most countreis send more males than females to the 2022 games, my next step I would like to take is to\n",
    "### to compare the top 10 medal winners at the 2022 games and see what % of thoose medals were won by males and females\n",
    "### I think a good plot to use could be a stacked bar blot..."
   ]
  },
  {
   "cell_type": "markdown",
   "metadata": {},
   "source": [
    "## Q3 Final Analysis and Plots"
   ]
  },
  {
   "cell_type": "code",
   "execution_count": null,
   "metadata": {},
   "outputs": [],
   "source": [
    "# q3 final analys function testing (move to .py)\n",
    "\n",
    "def q3_final_plotprep(data1, data2):\n",
    "    \n",
    "    df1 = data1.drop(['short_name', 'birth_date', 'birth_place', 'birth_country', 'country_code', 'residence_place', 'residence_country', 'height_m/ft', 'url'], axis= \"columns\")\n",
    "    \n",
    "    df2 = data2\n",
    "    df2 = (df2[['medal_type', 'athlete_name', 'country', 'discipline']]\n",
    "           .rename(columns={'athlete_name' : 'name'}))\n",
    "    \n",
    "    df_merged = (df1.merge(df2, how='outer', on='name')\n",
    "                 .drop(['country_y', 'discipline_y'], axis='columns')\n",
    "                 .rename(columns={'country_x' : 'country',\n",
    "                                  'discipline_x' : 'discipline'}))\n",
    "    \n",
    "    df = df_merged\n",
    "    \n",
    "    df['athlete_index'] = 1\n",
    "    df['athletes_sent'] = (df.groupby(['country', 'gender'])['athlete_index'].transform('count'))\n",
    "    df['athletes_total'] = (df.groupby(['country'])['athlete_index'].transform('count'))\n",
    "    df['athlete_%'] = ((df['athletes_sent']/df['athletes_total'])*100)\n",
    "    df['medal_count'] = (df.groupby(['country', 'gender'])['medal_type'].transform('count'))\n",
    "    df = df.replace(['M','F'],['Male', 'Female'])\n",
    "    \n",
    "    return df\n",
    "    "
   ]
  },
  {
   "cell_type": "code",
   "execution_count": null,
   "metadata": {},
   "outputs": [],
   "source": [
    "# adding calculated columns to dataframes to detemrine how many male and female atheltes each country sent to the 2022 olympics\n",
    "\n",
    "df = q3_final_plotprep(df_2022athlete, df_2022medals)"
   ]
  },
  {
   "cell_type": "code",
   "execution_count": null,
   "metadata": {},
   "outputs": [],
   "source": [
    "#spliting dataframes to male and female for stats \n",
    "\n",
    "df_male = df[df['gender'] == 'Male']\n",
    "df_female = df[df['gender'] == 'Female']"
   ]
  },
  {
   "cell_type": "code",
   "execution_count": null,
   "metadata": {},
   "outputs": [],
   "source": [
    "# male linear regressoin \n",
    "slope, intercept, r_value, p_value, std_err = stats.linregress(df_male['athletes_total'],df_male['medal_count'])\n",
    "\n",
    "plot = sns.regplot(x=\"athletes_total\", y=\"medal_count\", data=df_male, color='b', \n",
    " line_kws={'label':\"y={0:.1f}x+{1:.1f}\".format(slope,intercept)})\n",
    "\n",
    "\n",
    "plot.legend()\n",
    "sns.despine()\n",
    "plot.set(ylabel =\"Medals Won\", xlabel =\"Male Athletes Sent\", title = \"Regression of Medals won vs Male Athletes Sent\")\n",
    "\n",
    "\n",
    "plot\n"
   ]
  },
  {
   "cell_type": "code",
   "execution_count": null,
   "metadata": {},
   "outputs": [],
   "source": [
    "# female linear regressoin \n",
    "slope, intercept, r_value, p_value, std_err = stats.linregress(df_female['athletes_total'],df_female['medal_count'])\n",
    "\n",
    "plot = sns.regplot(x=\"athletes_total\", y=\"medal_count\", data=df_female, color='pink', \n",
    " line_kws={'label':\"y={0:.1f}x+{1:.1f}\".format(slope,intercept)})\n",
    "\n",
    "plot.legend()\n",
    "sns.despine()\n",
    "plot.set(ylabel =\"Medals Won\", xlabel =\"Female Athletes Sent\", title = \"Regression of Medals won vs Female Athletes Sent\")\n",
    "\n",
    "plot"
   ]
  },
  {
   "cell_type": "code",
   "execution_count": null,
   "metadata": {},
   "outputs": [],
   "source": [
    "# wrangling and spliting dataframe in to male and female top medal counts by country\n",
    "\n",
    "df_dis = df.sort_values('medal_count',ascending = False).groupby(['country']).head(1)\n",
    "\n",
    "df_dis_male = df_dis[df_dis['gender'] == 'Male'].head(10)\n",
    "#df_dis_male\n",
    "\n",
    "df_dis_female = df_dis[df_dis['gender'] == 'Female'].head(10)\n",
    "#df_dis_female"
   ]
  },
  {
   "cell_type": "code",
   "execution_count": null,
   "metadata": {},
   "outputs": [],
   "source": [
    "# bar plot comparing top 10 medal winning countries athletes gender distribution (of the athletes that went how many won medals)\n",
    "\n",
    "#set figure size\n",
    "plt.figure(figsize=(15,6))\n",
    "\n",
    "#Plot the total medals won\n",
    "sns.set_color_codes(\"pastel\")\n",
    "plot = sns.barplot(y=\"athletes_sent\", x=\"country\", data=df_dis_male,\n",
    "            label=\"Total\", color=\"b\")\n",
    "\n",
    "plt.xticks(rotation=30)\n",
    "plot.set_ylim(0, 150)\n",
    "plot.legend(ncol=2, loc=\"upper left\", frameon=False)\n",
    "plot.set(xlabel = \"Country\", ylabel =\"Number of Athletes Sent\", title = \"Comparison of Male Athletes sent vs Medals Won\")\n",
    "\n",
    "plot1 = plot.twinx()\n",
    "sns.set_color_codes(\"muted\")\n",
    "plot1 = sns.barplot(y=\"medal_count\", x=\"country\", data=df_dis_male,\n",
    "            label=\"Medals Won\", color=\"b\")\n",
    "\n",
    "plot1.set_ylim(0, 150)\n",
    "plot1.legend(ncol=2, loc=\"upper right\", frameon=False)\n",
    "plot1.set(ylabel = \"Medals Won\")\n",
    "plot1\n",
    "\n"
   ]
  },
  {
   "cell_type": "code",
   "execution_count": null,
   "metadata": {},
   "outputs": [],
   "source": [
    "# bar plot comparing top 10 medal winning countries athletes gender distribution (of the athletes that went how many won medals)\n",
    "\n",
    "#set figure size\n",
    "plt.figure(figsize=(15,6))\n",
    "\n",
    "#Plot the total medals won\n",
    "sns.set_color_codes(\"pastel\")\n",
    "plot = sns.barplot(y=\"athletes_sent\", x=\"country\", data=df_dis_female,\n",
    "            label=\"Total\", color=\"pink\")\n",
    "\n",
    "plt.xticks(rotation=30)\n",
    "plot.set_ylim(0, 130)\n",
    "plot.legend(ncol=2, loc=\"upper left\", frameon=False)\n",
    "plot.set(xlabel = \"Country\", ylabel =\"Number of Athletes Sent\", title = \"Comparison of Female Athletes sent vs Medals Won\")\n",
    "\n",
    "plot1 = plot.twinx()\n",
    "sns.set_color_codes(\"muted\")\n",
    "plot1 = sns.barplot(y=\"medal_count\", x=\"country\", data=df_dis_female,\n",
    "            label=\"Medals Won\", color=\"red\")\n",
    "\n",
    "plot1.set_ylim(0, 90)\n",
    "plot1.legend(ncol=2, loc=\"upper right\", frameon=False)\n",
    "plot1.set(ylabel = \"Medals Won\")\n",
    "plot1\n"
   ]
  },
  {
   "cell_type": "markdown",
   "metadata": {},
   "source": [
    "### Q3 Conclusions\n",
    "\n"
   ]
  },
  {
   "cell_type": "markdown",
   "metadata": {},
   "source": [
    "## Analysis Plan "
   ]
  },
  {
   "cell_type": "markdown",
   "metadata": {},
   "source": [
    "This inital EDA took about about 5ish hours of workin. I am fortunate to have lots of experaince wrangling and cleaning data in R and I found it helpful to draft out my analysis and EDA plan in R before converting it to python (a language I am new to). My primary research questions are sill valid and I think I can produce some very meaningful plots to show off my answer. \n",
    "\n",
    "My first question asks \"How does the ratio of male to female medal holders vary across countries?\". Currently I have shown the top 10 highest medal counts ever and my next step would be to create a facet wraped plot where each year I show the top 10 medal count winners from that games and show what % of it came from males or females. To get some qunatitative data I would like to manipulate (max, mins, means, IQRs) the data frame to see what the highest female % is  as well as see the average % contribution. \n",
    "\n",
    "My next question asks \"How does the country with the most medal holders at each game change over time and is this title associated with being the host country?\". Currently I have merged the historic host data frame and the historic medal data frame togehter to show where each games was hosted. Fortunatly I also have the countries of the medal winners and I would like to see how the numbers of medals won by host countries differ to the number of medals won by the non host country (compare mean nonhost to host) I would also like to plot the medal winners using facet grid with the columns set as host country. \n",
    "\n",
    "Finally I came up with a new question out of curiosity...which I belive is the name of the game. I would like to see which sport is most female and male dominated and does this differ by country? Currently I have selected the 2022 games dataset as I feel it is unreasonable to create an analysis for every single games nor would it be feasible to find athlete manifests for each of the games. My next possible analysis step would be to compare how many male vs female atheltes were sent to each sport, male vs female medal winners for each country, and how the % of total medal counts vary across countries. Based on my inital EDA it seemed that most countreis send more males than females to the 2022 games, my next step I would like to take is to compare the top 10 medal winners at the 2022 games and see what % of thoose medals were won by males and females. I think a good plot to use could be a stacked bar blot to show this off. "
   ]
  }
 ],
 "metadata": {
  "kernelspec": {
   "display_name": "Python 3 (ipykernel)",
   "language": "python",
   "name": "python3"
  },
  "language_info": {
   "codemirror_mode": {
    "name": "ipython",
    "version": 3
   },
   "file_extension": ".py",
   "mimetype": "text/x-python",
   "name": "python",
   "nbconvert_exporter": "python",
   "pygments_lexer": "ipython3",
   "version": "3.10.8"
  }
 },
 "nbformat": 4,
 "nbformat_minor": 4
}
