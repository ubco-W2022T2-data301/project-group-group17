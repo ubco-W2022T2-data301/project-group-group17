{
 "cells": [
  {
   "cell_type": "markdown",
   "metadata": {},
   "source": [
    "# Cynthia Kielpinski"
   ]
  },
  {
   "cell_type": "markdown",
   "metadata": {
    "tags": []
   },
   "source": [
    "## Research Interests:\n",
    "\n",
    "By majoring in statistics, I have always had a passion for the process behind statistics. The collection of data, the wrangling and processing of the data, exploratory analysis of the data, interpreting the analysis, and then finalizing the process by formulating a conclusion from the analysis. One fundamental ideal in statistics I have learned is that without an interdiscplinary field, you do not have the data and you are simply performing pure statistics. As per this comment, I have never found interest in pure statistics thus I found a passion in the interdisciplinary field of ecology and environmental sciences. For this project, my research interests are focus on exploratory statistics (required) and an environmental or ecological factor. Environmental data is more prominent  than ecological from my persepctive thus I have decided to focus on an environmental influence. Since our group decided on usng a summer and winter Olympics dataset, I though to refine my first research question to involve different countries performance in the summer and winter olympics influenced by their \"local\" climate. Competition is always a prfound topic, and I was also interested in how countries perform in their home country versus a visiting country. \n",
    "\n",
    "#### These are my generalize research questions:\n",
    "- climate and its relation to medals earned\n",
    "- host city correlation to medals earned\n",
    "\n",
    "## Research Questions: "
   ]
  },
  {
   "cell_type": "markdown",
   "metadata": {},
   "source": [
    "1. **Does the climate zone of a country denoted by the Köppen climate classification system determine a correlation between the probability or likelihood of preforming more succesfully in the summer or winter Olmypics?** For example, does Canada have a better probability of winning medals in the winter Olympics since it is in group D of the Köppen climate classification system (continental climate) defined specifically as subartic climate? Does Brazil have a better probability of winning medals in the summer Olympics since it is in group A of the Köppen climate classification system (tropical climates) defined as a tropical wet or savannah climate? Or is there no correlation between a countries climate classification and which Olympics the country preforms better in? I will explore the correlations between countries and their climates in regards to number of medals won in each of the respective summer or winter Olympic events. \n",
    "2. **By hosting the Olympics, does the hosting country win more medals in comparision to non-hosting countries?** I will explore the correlations to the country hosting the Olympics and the total number of medals won and compare the non-hosting countries total number of medals won. \n"
   ]
  },
  {
   "cell_type": "markdown",
   "metadata": {},
   "source": [
    "## Exploratory Data Analysis Plan: \n",
    "\n",
    "To determine some answers into my research questions, some of my ideas for exploratory analysis are: regression analysis, principal component analysis, analysis of variance and other simple but profound statistical methods. From briefly looking over the datasets, the above methods are a brief thought to the possibilities when exploring the data. After wrangling the data, I will define the specific analyses methods I choose to use. I have a background in Statistics, thus deciding what analyses will be used at a later stage will be an simplistic decision. \n",
    "\n",
    "I will complete as little wrangling as needed, but I have visioned the data to have a few more columns in regards to location, hosting city, average number of medals won by country, total number of medals won, total number of bronze medals, total number of silver medals, total number of gold medals, and anything data-wise that can be combined from the other datasets we have got approved. Additionally, I think I will merge the \"three\" datasets, and then remove the columns that aren't needed and remove the missing values if there are any present. Lastly, I think I will also rename the column names to make them easier for analysis.\n"
   ]
  },
  {
   "cell_type": "markdown",
   "metadata": {},
   "source": [
    "## Import Packages: (all packages needed for analysis, updated 02-12-2022)"
   ]
  },
  {
   "cell_type": "code",
   "execution_count": 9,
   "metadata": {},
   "outputs": [],
   "source": [
    "## Import Packages:\n",
    "import pandas as pd\n",
    "import numpy as np\n",
    "import matplotlib.pyplot as plt"
   ]
  },
  {
   "cell_type": "code",
   "execution_count": 10,
   "metadata": {},
   "outputs": [],
   "source": [
    "## Data Upload:\n",
    "OlympicHost = pd.read_csv('../../data/raw/Olympic_Summer_Winter_Games_1986-2022/olympic_hosts.csv')\n",
    "\n",
    "OlympicMedals = pd.read_csv('../../data/raw/Olympic_Summer_Winter_Games_1986-2022/olympic_medals.csv')\n",
    "\n",
    "## Have to create köppen climate classification csv!! Chatting to Dr. Moosvi."
   ]
  },
  {
   "cell_type": "markdown",
   "metadata": {},
   "source": [
    "## Initial Observations: "
   ]
  },
  {
   "cell_type": "code",
   "execution_count": 11,
   "metadata": {},
   "outputs": [
    {
     "data": {
      "text/html": [
       "<div>\n",
       "<style scoped>\n",
       "    .dataframe tbody tr th:only-of-type {\n",
       "        vertical-align: middle;\n",
       "    }\n",
       "\n",
       "    .dataframe tbody tr th {\n",
       "        vertical-align: top;\n",
       "    }\n",
       "\n",
       "    .dataframe thead th {\n",
       "        text-align: right;\n",
       "    }\n",
       "</style>\n",
       "<table border=\"1\" class=\"dataframe\">\n",
       "  <thead>\n",
       "    <tr style=\"text-align: right;\">\n",
       "      <th></th>\n",
       "      <th>game_slug</th>\n",
       "      <th>game_end_date</th>\n",
       "      <th>game_start_date</th>\n",
       "      <th>game_location</th>\n",
       "      <th>game_name</th>\n",
       "      <th>game_season</th>\n",
       "      <th>game_year</th>\n",
       "    </tr>\n",
       "  </thead>\n",
       "  <tbody>\n",
       "    <tr>\n",
       "      <th>0</th>\n",
       "      <td>beijing-2022</td>\n",
       "      <td>2022-02-20T12:00:00Z</td>\n",
       "      <td>2022-02-04T15:00:00Z</td>\n",
       "      <td>China</td>\n",
       "      <td>Beijing 2022</td>\n",
       "      <td>Winter</td>\n",
       "      <td>2022</td>\n",
       "    </tr>\n",
       "    <tr>\n",
       "      <th>1</th>\n",
       "      <td>tokyo-2020</td>\n",
       "      <td>2021-08-08T14:00:00Z</td>\n",
       "      <td>2021-07-23T11:00:00Z</td>\n",
       "      <td>Japan</td>\n",
       "      <td>Tokyo 2020</td>\n",
       "      <td>Summer</td>\n",
       "      <td>2020</td>\n",
       "    </tr>\n",
       "    <tr>\n",
       "      <th>2</th>\n",
       "      <td>pyeongchang-2018</td>\n",
       "      <td>2018-02-25T08:00:00Z</td>\n",
       "      <td>2018-02-08T23:00:00Z</td>\n",
       "      <td>Republic of Korea</td>\n",
       "      <td>PyeongChang 2018</td>\n",
       "      <td>Winter</td>\n",
       "      <td>2018</td>\n",
       "    </tr>\n",
       "    <tr>\n",
       "      <th>3</th>\n",
       "      <td>rio-2016</td>\n",
       "      <td>2016-08-21T21:00:00Z</td>\n",
       "      <td>2016-08-05T12:00:00Z</td>\n",
       "      <td>Brazil</td>\n",
       "      <td>Rio 2016</td>\n",
       "      <td>Summer</td>\n",
       "      <td>2016</td>\n",
       "    </tr>\n",
       "    <tr>\n",
       "      <th>4</th>\n",
       "      <td>sochi-2014</td>\n",
       "      <td>2014-02-23T16:00:00Z</td>\n",
       "      <td>2014-02-07T04:00:00Z</td>\n",
       "      <td>Russian Federation</td>\n",
       "      <td>Sochi 2014</td>\n",
       "      <td>Winter</td>\n",
       "      <td>2014</td>\n",
       "    </tr>\n",
       "  </tbody>\n",
       "</table>\n",
       "</div>"
      ],
      "text/plain": [
       "          game_slug         game_end_date       game_start_date  \\\n",
       "0      beijing-2022  2022-02-20T12:00:00Z  2022-02-04T15:00:00Z   \n",
       "1        tokyo-2020  2021-08-08T14:00:00Z  2021-07-23T11:00:00Z   \n",
       "2  pyeongchang-2018  2018-02-25T08:00:00Z  2018-02-08T23:00:00Z   \n",
       "3          rio-2016  2016-08-21T21:00:00Z  2016-08-05T12:00:00Z   \n",
       "4        sochi-2014  2014-02-23T16:00:00Z  2014-02-07T04:00:00Z   \n",
       "\n",
       "        game_location         game_name game_season  game_year  \n",
       "0               China      Beijing 2022      Winter       2022  \n",
       "1               Japan        Tokyo 2020      Summer       2020  \n",
       "2   Republic of Korea  PyeongChang 2018      Winter       2018  \n",
       "3              Brazil          Rio 2016      Summer       2016  \n",
       "4  Russian Federation        Sochi 2014      Winter       2014  "
      ]
     },
     "execution_count": 11,
     "metadata": {},
     "output_type": "execute_result"
    }
   ],
   "source": [
    "OlympicHost.head(n=5)"
   ]
  },
  {
   "cell_type": "code",
   "execution_count": 12,
   "metadata": {},
   "outputs": [
    {
     "data": {
      "text/html": [
       "<div>\n",
       "<style scoped>\n",
       "    .dataframe tbody tr th:only-of-type {\n",
       "        vertical-align: middle;\n",
       "    }\n",
       "\n",
       "    .dataframe tbody tr th {\n",
       "        vertical-align: top;\n",
       "    }\n",
       "\n",
       "    .dataframe thead th {\n",
       "        text-align: right;\n",
       "    }\n",
       "</style>\n",
       "<table border=\"1\" class=\"dataframe\">\n",
       "  <thead>\n",
       "    <tr style=\"text-align: right;\">\n",
       "      <th></th>\n",
       "      <th>discipline_title</th>\n",
       "      <th>slug_game</th>\n",
       "      <th>event_title</th>\n",
       "      <th>event_gender</th>\n",
       "      <th>medal_type</th>\n",
       "      <th>participant_type</th>\n",
       "      <th>participant_title</th>\n",
       "      <th>athlete_url</th>\n",
       "      <th>athlete_full_name</th>\n",
       "      <th>country_name</th>\n",
       "      <th>country_code</th>\n",
       "      <th>country_3_letter_code</th>\n",
       "    </tr>\n",
       "  </thead>\n",
       "  <tbody>\n",
       "    <tr>\n",
       "      <th>0</th>\n",
       "      <td>Curling</td>\n",
       "      <td>beijing-2022</td>\n",
       "      <td>Mixed Doubles</td>\n",
       "      <td>Mixed</td>\n",
       "      <td>GOLD</td>\n",
       "      <td>GameTeam</td>\n",
       "      <td>Italy</td>\n",
       "      <td>https://olympics.com/en/athletes/stefania-cons...</td>\n",
       "      <td>Stefania CONSTANTINI</td>\n",
       "      <td>Italy</td>\n",
       "      <td>IT</td>\n",
       "      <td>ITA</td>\n",
       "    </tr>\n",
       "    <tr>\n",
       "      <th>1</th>\n",
       "      <td>Curling</td>\n",
       "      <td>beijing-2022</td>\n",
       "      <td>Mixed Doubles</td>\n",
       "      <td>Mixed</td>\n",
       "      <td>GOLD</td>\n",
       "      <td>GameTeam</td>\n",
       "      <td>Italy</td>\n",
       "      <td>https://olympics.com/en/athletes/amos-mosaner</td>\n",
       "      <td>Amos MOSANER</td>\n",
       "      <td>Italy</td>\n",
       "      <td>IT</td>\n",
       "      <td>ITA</td>\n",
       "    </tr>\n",
       "    <tr>\n",
       "      <th>2</th>\n",
       "      <td>Curling</td>\n",
       "      <td>beijing-2022</td>\n",
       "      <td>Mixed Doubles</td>\n",
       "      <td>Mixed</td>\n",
       "      <td>SILVER</td>\n",
       "      <td>GameTeam</td>\n",
       "      <td>Norway</td>\n",
       "      <td>https://olympics.com/en/athletes/kristin-skaslien</td>\n",
       "      <td>Kristin SKASLIEN</td>\n",
       "      <td>Norway</td>\n",
       "      <td>NO</td>\n",
       "      <td>NOR</td>\n",
       "    </tr>\n",
       "    <tr>\n",
       "      <th>3</th>\n",
       "      <td>Curling</td>\n",
       "      <td>beijing-2022</td>\n",
       "      <td>Mixed Doubles</td>\n",
       "      <td>Mixed</td>\n",
       "      <td>SILVER</td>\n",
       "      <td>GameTeam</td>\n",
       "      <td>Norway</td>\n",
       "      <td>https://olympics.com/en/athletes/magnus-nedreg...</td>\n",
       "      <td>Magnus NEDREGOTTEN</td>\n",
       "      <td>Norway</td>\n",
       "      <td>NO</td>\n",
       "      <td>NOR</td>\n",
       "    </tr>\n",
       "    <tr>\n",
       "      <th>4</th>\n",
       "      <td>Curling</td>\n",
       "      <td>beijing-2022</td>\n",
       "      <td>Mixed Doubles</td>\n",
       "      <td>Mixed</td>\n",
       "      <td>BRONZE</td>\n",
       "      <td>GameTeam</td>\n",
       "      <td>Sweden</td>\n",
       "      <td>https://olympics.com/en/athletes/almida-de-val</td>\n",
       "      <td>Almida DE VAL</td>\n",
       "      <td>Sweden</td>\n",
       "      <td>SE</td>\n",
       "      <td>SWE</td>\n",
       "    </tr>\n",
       "  </tbody>\n",
       "</table>\n",
       "</div>"
      ],
      "text/plain": [
       "  discipline_title     slug_game    event_title event_gender medal_type  \\\n",
       "0          Curling  beijing-2022  Mixed Doubles        Mixed       GOLD   \n",
       "1          Curling  beijing-2022  Mixed Doubles        Mixed       GOLD   \n",
       "2          Curling  beijing-2022  Mixed Doubles        Mixed     SILVER   \n",
       "3          Curling  beijing-2022  Mixed Doubles        Mixed     SILVER   \n",
       "4          Curling  beijing-2022  Mixed Doubles        Mixed     BRONZE   \n",
       "\n",
       "  participant_type participant_title  \\\n",
       "0         GameTeam             Italy   \n",
       "1         GameTeam             Italy   \n",
       "2         GameTeam            Norway   \n",
       "3         GameTeam            Norway   \n",
       "4         GameTeam            Sweden   \n",
       "\n",
       "                                         athlete_url     athlete_full_name  \\\n",
       "0  https://olympics.com/en/athletes/stefania-cons...  Stefania CONSTANTINI   \n",
       "1      https://olympics.com/en/athletes/amos-mosaner          Amos MOSANER   \n",
       "2  https://olympics.com/en/athletes/kristin-skaslien      Kristin SKASLIEN   \n",
       "3  https://olympics.com/en/athletes/magnus-nedreg...    Magnus NEDREGOTTEN   \n",
       "4     https://olympics.com/en/athletes/almida-de-val         Almida DE VAL   \n",
       "\n",
       "  country_name country_code country_3_letter_code  \n",
       "0        Italy           IT                   ITA  \n",
       "1        Italy           IT                   ITA  \n",
       "2       Norway           NO                   NOR  \n",
       "3       Norway           NO                   NOR  \n",
       "4       Sweden           SE                   SWE  "
      ]
     },
     "execution_count": 12,
     "metadata": {},
     "output_type": "execute_result"
    }
   ],
   "source": [
    "OlympicMedals.head(n=5)"
   ]
  },
  {
   "cell_type": "code",
   "execution_count": null,
   "metadata": {},
   "outputs": [],
   "source": []
  },
  {
   "cell_type": "code",
   "execution_count": null,
   "metadata": {},
   "outputs": [],
   "source": []
  }
 ],
 "metadata": {
  "kernelspec": {
   "display_name": "Python 3 (ipykernel)",
   "language": "python",
   "name": "python3"
  },
  "language_info": {
   "codemirror_mode": {
    "name": "ipython",
    "version": 3
   },
   "file_extension": ".py",
   "mimetype": "text/x-python",
   "name": "python",
   "nbconvert_exporter": "python",
   "pygments_lexer": "ipython3",
   "version": "3.10.8"
  }
 },
 "nbformat": 4,
 "nbformat_minor": 4
}
