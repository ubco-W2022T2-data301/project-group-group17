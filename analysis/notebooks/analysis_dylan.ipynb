{
 "cells": [
  {
   "cell_type": "markdown",
   "metadata": {},
   "source": [
    "# Dylan Forsythe"
   ]
  },
  {
   "cell_type": "markdown",
   "metadata": {},
   "source": [
    "## Research Interests\n",
    "\n",
    "I am interested in learning about the popularities of each of the sports over the past 75 years. I'm leaving this pretty broad right now because there a couple questions and further interests that can arise once we begin analysizing the data. So far, I'm mostly interested in winter olympic sports like snowboarding and figure skating.\n",
    "\n",
    "## Research Questions\n",
    " 1. If a sport was added to the Olympics during this interval, has it affected the popularity of the other sports that were already in place?\n",
    " 1. Did althetes of one sport move to newer sports?"
   ]
  }
 ],
 "metadata": {
  "kernelspec": {
   "display_name": "Python 3 (ipykernel)",
   "language": "python",
   "name": "python3"
  },
  "language_info": {
   "codemirror_mode": {
    "name": "ipython",
    "version": 3
   },
   "file_extension": ".py",
   "mimetype": "text/x-python",
   "name": "python",
   "nbconvert_exporter": "python",
   "pygments_lexer": "ipython3",
   "version": "3.10.8"
  }
 },
 "nbformat": 4,
 "nbformat_minor": 4
}
