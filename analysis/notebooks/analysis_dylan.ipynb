{
 "cells": [
  {
   "cell_type": "markdown",
   "metadata": {},
   "source": [
    "# Dylan Forsythe"
   ]
  },
  {
   "cell_type": "markdown",
   "metadata": {},
   "source": [
    "## Research Interests\n",
    "\n",
    "Since pursuing a degree in data science, I am constantly being introduced to various ways of observing and exploring data, tables, charts, and graphs. I very much enjoy the visualization of dataframes by turning them into graphs because doing so helps me understand the data. By learning how to customize these graphs, theres an almost unlimited amount of stories that can be created. That is where the spark of my research interests lay. I wish to find the stories in the data that are not apparent without the steps involved with data analysis.\n",
    "For this project, my interest is in learning about the popularities of some of the the sports over the past 30 years. So far, I'm mostly interested in winter olympic sports like snowboarding because of how 'new' it is relative to the other sports, and figure skating simply because I think its pretty. I am hoping to find information by looking at how the popularity of a sport changes over time. Perhaps, if I am able to learn enough analysis and statistics techniques, I may be able to find how the popularity of one sport influences or affects the popularity of another. This question may have to be dropped as it may not be within the scope of this course.\n",
    "\n",
    "## Research Questions\n",
    " 1. **How does the popularities (amount of participants/competitors) change over time for each sport?**\n",
    "\n",
    " 1. **Did althetes of one sport move to other sports as it gained popularity? (this question may be dropped simply because there could be many different reasons for a sport switch)**"
   ]
  },
  {
   "cell_type": "code",
   "execution_count": 1,
   "metadata": {},
   "outputs": [],
   "source": [
    "# Import libraries\n",
    "import pandas as pd\n",
    "import numpy as np\n",
    "import matplotlib.pyplot as plt"
   ]
  },
  {
   "cell_type": "code",
   "execution_count": 2,
   "metadata": {},
   "outputs": [],
   "source": [
    "# Read raw data and save into seperate df's\n",
    "OlympicResultsDF = pd.read_csv('../../data/raw/Olympic_Summer_Winter_Games_1986-2022/olympic_results.csv')\n",
    "OlympicHostsDF = pd.read_csv('../../data/raw/Olympic_Summer_Winter_Games_1986-2022/olympic_hosts.csv')\n",
    "OlympicMedalsDF = pd.read_csv('../../data/raw/Olympic_Summer_Winter_Games_1986-2022/olympic_medals.csv')\n",
    "OlympicAthletesDF = pd.read_csv('../../data/raw/Olympic_Summer_Winter_Games_1986-2022/olympic_athletes.csv')"
   ]
  },
  {
   "cell_type": "markdown",
   "metadata": {},
   "source": [
    "## Check the heads of each dataframe to get an idea of what information each one contains"
   ]
  },
  {
   "cell_type": "code",
   "execution_count": 7,
   "metadata": {},
   "outputs": [],
   "source": [
    "#OlympicResultsDF.head()"
   ]
  },
  {
   "cell_type": "code",
   "execution_count": 8,
   "metadata": {},
   "outputs": [],
   "source": [
    "#OlympicHostsDF.head()"
   ]
  },
  {
   "cell_type": "code",
   "execution_count": 9,
   "metadata": {},
   "outputs": [],
   "source": [
    "#OlympicMedalsDF.head()"
   ]
  },
  {
   "cell_type": "code",
   "execution_count": 10,
   "metadata": {},
   "outputs": [],
   "source": [
    "#OlympicAthletesDF.head()"
   ]
  },
  {
   "cell_type": "markdown",
   "metadata": {},
   "source": [
    "### Initial Observations\n",
    "* Depending on the year interval in which I would like to use (still undecided) I will have to clean the dataframes to only include the years in that interval\n",
    "* The results dataframe has a couple columns that need to be cleaned that I will need for my analysis, i.e.: athlete_full_name. It looks like I should be able to get this info from a column called 'athletes' that also includes a link to the athletes information page on the olympics official website. Handy.\n",
    "* I think I would like to begin by seperating the Summer and Winter Olympics into individual dataframes with the end goal of running very similar analyses on both for each sport\n",
    "* From there, I am thinking I should pull the sports from each Olympic year and include the number of competitors for each.\n",
    "* Before I get too far into my plan, I would like some feedback in case I am missing something that would be beneficial in my research."
   ]
  }
 ],
 "metadata": {
  "kernelspec": {
   "display_name": "Python 3 (ipykernel)",
   "language": "python",
   "name": "python3"
  },
  "language_info": {
   "codemirror_mode": {
    "name": "ipython",
    "version": 3
   },
   "file_extension": ".py",
   "mimetype": "text/x-python",
   "name": "python",
   "nbconvert_exporter": "python",
   "pygments_lexer": "ipython3",
   "version": "3.10.8"
  }
 },
 "nbformat": 4,
 "nbformat_minor": 4
}
