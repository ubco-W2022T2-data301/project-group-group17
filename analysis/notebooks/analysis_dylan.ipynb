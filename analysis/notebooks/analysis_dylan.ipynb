{
 "cells": [
  {
   "cell_type": "markdown",
   "metadata": {},
   "source": [
    "# Dylan Forsythe"
   ]
  },
  {
   "cell_type": "markdown",
   "metadata": {},
   "source": [
    "## Research Interests\n",
    "\n",
    "Since pursuing a degree in data science, I have been constantly introduced to various ways of observing and exploring data through tables, charts, graphs, etc. I very much enjoy the visualization of dataframes by turning them into visually appealing graphs because doing so helps me understand the data. By learning how to customize these graphs, theres an almost unlimited amount of stories that can be created. That is where the spark of my research interests lay. I wish to find the stories in the data that are not apparent without the steps involved with data analysis.\n",
    "For this project, my interest is in learning about the popularities of some of the the sports over the history that the sport has been played in the Olympics. So far, I'm mostly interested in winter olympic sports like snowboarding because I recently learned how to snowboard, and figure skating simply because I think its pretty. I am hoping to find the information necessary to answer my questions by looking at how many participants are in the Olympics in each of these sports, as well as see how those numbers change every 4 years. \n",
    "\n",
    "## Research Question 1\n",
    "**How have the popularities of Snowboarding and Figure Skating (i.e. amount of participants / competitors) changed over time?**"
   ]
  },
  {
   "cell_type": "code",
   "execution_count": 1,
   "metadata": {},
   "outputs": [],
   "source": [
    "# Import libraries\n",
    "import pandas as pd\n",
    "import numpy as np\n",
    "import matplotlib.pyplot as plt\n",
    "import seaborn as sns"
   ]
  },
  {
   "cell_type": "code",
   "execution_count": 105,
   "metadata": {},
   "outputs": [],
   "source": [
    "# Set the base theme for seaborn graphs\n",
    "sns.set_theme(style='whitegrid',font_scale=1.25)"
   ]
  },
  {
   "cell_type": "code",
   "execution_count": 3,
   "metadata": {},
   "outputs": [],
   "source": [
    "# Read raw data and save into seperate df's\n",
    "OlympicResultsDF = pd.read_csv('../../data/raw/Olympic_Summer_Winter_Games_1986-2022/olympic_results.csv')\n",
    "OlympicHostsDF = pd.read_csv('../../data/raw/Olympic_Summer_Winter_Games_1986-2022/olympic_hosts.csv')\n",
    "OlympicMedalsDF = pd.read_csv('../../data/raw/Olympic_Summer_Winter_Games_1986-2022/olympic_medals.csv')\n",
    "OlympicAthletesDF = pd.read_csv('../../data/raw/Olympic_Summer_Winter_Games_1986-2022/olympic_athletes.csv')"
   ]
  },
  {
   "cell_type": "code",
   "execution_count": 4,
   "metadata": {},
   "outputs": [],
   "source": [
    "# Check the shape, and heads of each dataframe to get an idea of what information each one contains\n",
    "#print(OlympicResultsDF.shape)\n",
    "#OlympicResultsDF.head()"
   ]
  },
  {
   "cell_type": "code",
   "execution_count": 5,
   "metadata": {},
   "outputs": [],
   "source": [
    "#print(OlympicHostsDF.shape)\n",
    "#OlympicHostsDF.head()"
   ]
  },
  {
   "cell_type": "code",
   "execution_count": 6,
   "metadata": {},
   "outputs": [],
   "source": [
    "#print(OlympicMedalsDF.shape)\n",
    "#OlympicMedalsDF.head()"
   ]
  },
  {
   "cell_type": "code",
   "execution_count": 7,
   "metadata": {},
   "outputs": [],
   "source": [
    "#print(OlympicAthletesDF.shape)\n",
    "#OlympicAthletesDF.head()"
   ]
  },
  {
   "cell_type": "code",
   "execution_count": 8,
   "metadata": {},
   "outputs": [],
   "source": [
    "Research_df_merged = pd.merge(OlympicResultsDF, OlympicAthletesDF, how='outer')\n",
    "Research_df_merged = pd.merge(Research_df_merged, OlympicMedalsDF, how='outer')\n",
    "Research_df_merged = pd.merge(Research_df_merged, OlympicHostsDF, left_on='slug_game', right_on='game_slug')\n",
    "Research_df_merged = Research_df_merged.drop(columns=['first_game','athlete_full_name','game_slug','athletes','value_unit','value_type',\n",
    "                                 'games_participations','athlete_url','participant_type',\n",
    "                                 'rank_equal','rank_position','country_name','country_code',\n",
    "                                 'country_3_letter_code','athlete_year_birth','bio',\n",
    "                                 'athlete_medals','event_gender','participant_title',\n",
    "                                 'game_end_date','game_start_date','game_season','slug_game'])"
   ]
  },
  {
   "cell_type": "code",
   "execution_count": 9,
   "metadata": {},
   "outputs": [],
   "source": [
    "# Since we only want to look at the sports of Snowboarding and Figure Skating, I want to make a\n",
    "# dataframe containing only these two sports\n",
    "\n",
    "Snow_and_Skate_df = Research_df_merged[Research_df_merged['discipline_title'].isin(['Snowboard', 'Figure skating'])]\n",
    "Snow_and_Skate_df = Snow_and_Skate_df.reset_index(drop=True)"
   ]
  },
  {
   "cell_type": "code",
   "execution_count": 23,
   "metadata": {},
   "outputs": [
    {
     "data": {
      "text/html": [
       "<div>\n",
       "<style scoped>\n",
       "    .dataframe tbody tr th:only-of-type {\n",
       "        vertical-align: middle;\n",
       "    }\n",
       "\n",
       "    .dataframe tbody tr th {\n",
       "        vertical-align: top;\n",
       "    }\n",
       "\n",
       "    .dataframe thead th {\n",
       "        text-align: right;\n",
       "    }\n",
       "</style>\n",
       "<table border=\"1\" class=\"dataframe\">\n",
       "  <thead>\n",
       "    <tr style=\"text-align: right;\">\n",
       "      <th></th>\n",
       "      <th>Sport</th>\n",
       "      <th>Sporting Event Name</th>\n",
       "      <th>Awarded Medal</th>\n",
       "      <th>Olympic Host</th>\n",
       "      <th>Olympic Name</th>\n",
       "      <th>Year</th>\n",
       "    </tr>\n",
       "  </thead>\n",
       "  <tbody>\n",
       "    <tr>\n",
       "      <th>0</th>\n",
       "      <td>Snowboard</td>\n",
       "      <td>Mixed Team Snowboard Cross</td>\n",
       "      <td>GOLD</td>\n",
       "      <td>China</td>\n",
       "      <td>Beijing 2022</td>\n",
       "      <td>2022</td>\n",
       "    </tr>\n",
       "    <tr>\n",
       "      <th>1</th>\n",
       "      <td>Snowboard</td>\n",
       "      <td>Mixed Team Snowboard Cross</td>\n",
       "      <td>SILVER</td>\n",
       "      <td>China</td>\n",
       "      <td>Beijing 2022</td>\n",
       "      <td>2022</td>\n",
       "    </tr>\n",
       "    <tr>\n",
       "      <th>2</th>\n",
       "      <td>Snowboard</td>\n",
       "      <td>Mixed Team Snowboard Cross</td>\n",
       "      <td>BRONZE</td>\n",
       "      <td>China</td>\n",
       "      <td>Beijing 2022</td>\n",
       "      <td>2022</td>\n",
       "    </tr>\n",
       "    <tr>\n",
       "      <th>3</th>\n",
       "      <td>Snowboard</td>\n",
       "      <td>Mixed Team Snowboard Cross</td>\n",
       "      <td>NaN</td>\n",
       "      <td>China</td>\n",
       "      <td>Beijing 2022</td>\n",
       "      <td>2022</td>\n",
       "    </tr>\n",
       "    <tr>\n",
       "      <th>4</th>\n",
       "      <td>Snowboard</td>\n",
       "      <td>Mixed Team Snowboard Cross</td>\n",
       "      <td>NaN</td>\n",
       "      <td>China</td>\n",
       "      <td>Beijing 2022</td>\n",
       "      <td>2022</td>\n",
       "    </tr>\n",
       "    <tr>\n",
       "      <th>...</th>\n",
       "      <td>...</td>\n",
       "      <td>...</td>\n",
       "      <td>...</td>\n",
       "      <td>...</td>\n",
       "      <td>...</td>\n",
       "      <td>...</td>\n",
       "    </tr>\n",
       "    <tr>\n",
       "      <th>3600</th>\n",
       "      <td>Figure skating</td>\n",
       "      <td>Pairs mixed</td>\n",
       "      <td>SILVER</td>\n",
       "      <td>Great Britain</td>\n",
       "      <td>London 1908</td>\n",
       "      <td>1908</td>\n",
       "    </tr>\n",
       "    <tr>\n",
       "      <th>3601</th>\n",
       "      <td>Figure skating</td>\n",
       "      <td>Pairs mixed</td>\n",
       "      <td>BRONZE</td>\n",
       "      <td>Great Britain</td>\n",
       "      <td>London 1908</td>\n",
       "      <td>1908</td>\n",
       "    </tr>\n",
       "    <tr>\n",
       "      <th>3602</th>\n",
       "      <td>Figure skating</td>\n",
       "      <td>Pairs mixed</td>\n",
       "      <td>BRONZE</td>\n",
       "      <td>Great Britain</td>\n",
       "      <td>London 1908</td>\n",
       "      <td>1908</td>\n",
       "    </tr>\n",
       "    <tr>\n",
       "      <th>3603</th>\n",
       "      <td>Figure skating</td>\n",
       "      <td>Pairs mixed</td>\n",
       "      <td>GOLD</td>\n",
       "      <td>Great Britain</td>\n",
       "      <td>London 1908</td>\n",
       "      <td>1908</td>\n",
       "    </tr>\n",
       "    <tr>\n",
       "      <th>3604</th>\n",
       "      <td>Figure skating</td>\n",
       "      <td>Pairs mixed</td>\n",
       "      <td>GOLD</td>\n",
       "      <td>Great Britain</td>\n",
       "      <td>London 1908</td>\n",
       "      <td>1908</td>\n",
       "    </tr>\n",
       "  </tbody>\n",
       "</table>\n",
       "<p>3605 rows × 6 columns</p>\n",
       "</div>"
      ],
      "text/plain": [
       "               Sport         Sporting Event Name Awarded Medal   Olympic Host  \\\n",
       "0          Snowboard  Mixed Team Snowboard Cross          GOLD          China   \n",
       "1          Snowboard  Mixed Team Snowboard Cross        SILVER          China   \n",
       "2          Snowboard  Mixed Team Snowboard Cross        BRONZE          China   \n",
       "3          Snowboard  Mixed Team Snowboard Cross           NaN          China   \n",
       "4          Snowboard  Mixed Team Snowboard Cross           NaN          China   \n",
       "...              ...                         ...           ...            ...   \n",
       "3600  Figure skating                 Pairs mixed        SILVER  Great Britain   \n",
       "3601  Figure skating                 Pairs mixed        BRONZE  Great Britain   \n",
       "3602  Figure skating                 Pairs mixed        BRONZE  Great Britain   \n",
       "3603  Figure skating                 Pairs mixed          GOLD  Great Britain   \n",
       "3604  Figure skating                 Pairs mixed          GOLD  Great Britain   \n",
       "\n",
       "      Olympic Name  Year  \n",
       "0     Beijing 2022  2022  \n",
       "1     Beijing 2022  2022  \n",
       "2     Beijing 2022  2022  \n",
       "3     Beijing 2022  2022  \n",
       "4     Beijing 2022  2022  \n",
       "...            ...   ...  \n",
       "3600   London 1908  1908  \n",
       "3601   London 1908  1908  \n",
       "3602   London 1908  1908  \n",
       "3603   London 1908  1908  \n",
       "3604   London 1908  1908  \n",
       "\n",
       "[3605 rows x 6 columns]"
      ]
     },
     "execution_count": 23,
     "metadata": {},
     "output_type": "execute_result"
    }
   ],
   "source": [
    "Snow_and_Skate_df = Snow_and_Skate_df.rename(columns={'discipline_title' : 'Sport',\n",
    "                                  'event_title' : 'Sporting Event Name',\n",
    "                                  'medal_type' : 'Awarded Medal',\n",
    "                                  'game_location' : 'Olympic Host',\n",
    "                                  'game_name' : 'Olympic Name',\n",
    "                                  'game_year' : 'Year'})\n",
    "Snow_and_Skate_df = Snow_and_Skate_df.reset_index(drop=True)\n",
    "Snow_and_Skate_df"
   ]
  },
  {
   "cell_type": "code",
   "execution_count": 154,
   "metadata": {},
   "outputs": [
    {
     "data": {
      "text/html": [
       "<div>\n",
       "<style scoped>\n",
       "    .dataframe tbody tr th:only-of-type {\n",
       "        vertical-align: middle;\n",
       "    }\n",
       "\n",
       "    .dataframe tbody tr th {\n",
       "        vertical-align: top;\n",
       "    }\n",
       "\n",
       "    .dataframe thead th {\n",
       "        text-align: right;\n",
       "    }\n",
       "</style>\n",
       "<table border=\"1\" class=\"dataframe\">\n",
       "  <thead>\n",
       "    <tr style=\"text-align: right;\">\n",
       "      <th></th>\n",
       "      <th>Year</th>\n",
       "      <th>Olympic Name</th>\n",
       "      <th>Sport</th>\n",
       "      <th>Number of Participants</th>\n",
       "    </tr>\n",
       "  </thead>\n",
       "  <tbody>\n",
       "    <tr>\n",
       "      <th>0</th>\n",
       "      <td>1908</td>\n",
       "      <td>London 1908</td>\n",
       "      <td>Figure skating</td>\n",
       "      <td>29</td>\n",
       "    </tr>\n",
       "    <tr>\n",
       "      <th>1</th>\n",
       "      <td>1920</td>\n",
       "      <td>Antwerp 1920</td>\n",
       "      <td>Figure skating</td>\n",
       "      <td>31</td>\n",
       "    </tr>\n",
       "    <tr>\n",
       "      <th>2</th>\n",
       "      <td>1924</td>\n",
       "      <td>Chamonix 1924</td>\n",
       "      <td>Figure skating</td>\n",
       "      <td>39</td>\n",
       "    </tr>\n",
       "    <tr>\n",
       "      <th>3</th>\n",
       "      <td>1928</td>\n",
       "      <td>St. Moritz 1928</td>\n",
       "      <td>Figure skating</td>\n",
       "      <td>56</td>\n",
       "    </tr>\n",
       "    <tr>\n",
       "      <th>4</th>\n",
       "      <td>1932</td>\n",
       "      <td>Lake Placid 1932</td>\n",
       "      <td>Figure skating</td>\n",
       "      <td>46</td>\n",
       "    </tr>\n",
       "    <tr>\n",
       "      <th>5</th>\n",
       "      <td>1936</td>\n",
       "      <td>Garmisch-Partenkirchen 1936</td>\n",
       "      <td>Figure skating</td>\n",
       "      <td>95</td>\n",
       "    </tr>\n",
       "    <tr>\n",
       "      <th>6</th>\n",
       "      <td>1948</td>\n",
       "      <td>St. Moritz 1948</td>\n",
       "      <td>Figure skating</td>\n",
       "      <td>62</td>\n",
       "    </tr>\n",
       "    <tr>\n",
       "      <th>7</th>\n",
       "      <td>1952</td>\n",
       "      <td>Oslo 1952</td>\n",
       "      <td>Figure skating</td>\n",
       "      <td>58</td>\n",
       "    </tr>\n",
       "    <tr>\n",
       "      <th>8</th>\n",
       "      <td>1956</td>\n",
       "      <td>Cortina d'Ampezzo 1956</td>\n",
       "      <td>Figure skating</td>\n",
       "      <td>59</td>\n",
       "    </tr>\n",
       "    <tr>\n",
       "      <th>9</th>\n",
       "      <td>1960</td>\n",
       "      <td>Squaw Valley 1960</td>\n",
       "      <td>Figure skating</td>\n",
       "      <td>64</td>\n",
       "    </tr>\n",
       "    <tr>\n",
       "      <th>10</th>\n",
       "      <td>1964</td>\n",
       "      <td>Innsbruck 1964</td>\n",
       "      <td>Figure skating</td>\n",
       "      <td>79</td>\n",
       "    </tr>\n",
       "    <tr>\n",
       "      <th>11</th>\n",
       "      <td>1968</td>\n",
       "      <td>Grenoble 1968</td>\n",
       "      <td>Figure skating</td>\n",
       "      <td>85</td>\n",
       "    </tr>\n",
       "    <tr>\n",
       "      <th>12</th>\n",
       "      <td>1972</td>\n",
       "      <td>Sapporo 1972</td>\n",
       "      <td>Figure skating</td>\n",
       "      <td>58</td>\n",
       "    </tr>\n",
       "    <tr>\n",
       "      <th>13</th>\n",
       "      <td>1976</td>\n",
       "      <td>Innsbruck 1976</td>\n",
       "      <td>Figure skating</td>\n",
       "      <td>74</td>\n",
       "    </tr>\n",
       "    <tr>\n",
       "      <th>14</th>\n",
       "      <td>1980</td>\n",
       "      <td>Lake Placid 1980</td>\n",
       "      <td>Figure skating</td>\n",
       "      <td>67</td>\n",
       "    </tr>\n",
       "    <tr>\n",
       "      <th>15</th>\n",
       "      <td>1984</td>\n",
       "      <td>Sarajevo 1984</td>\n",
       "      <td>Figure skating</td>\n",
       "      <td>93</td>\n",
       "    </tr>\n",
       "    <tr>\n",
       "      <th>16</th>\n",
       "      <td>1988</td>\n",
       "      <td>Calgary 1988</td>\n",
       "      <td>Figure skating</td>\n",
       "      <td>93</td>\n",
       "    </tr>\n",
       "    <tr>\n",
       "      <th>17</th>\n",
       "      <td>1992</td>\n",
       "      <td>Albertville 1992</td>\n",
       "      <td>Figure skating</td>\n",
       "      <td>95</td>\n",
       "    </tr>\n",
       "    <tr>\n",
       "      <th>18</th>\n",
       "      <td>1994</td>\n",
       "      <td>Lillehammer 1994</td>\n",
       "      <td>Figure skating</td>\n",
       "      <td>99</td>\n",
       "    </tr>\n",
       "    <tr>\n",
       "      <th>19</th>\n",
       "      <td>1998</td>\n",
       "      <td>Nagano 1998</td>\n",
       "      <td>Figure skating</td>\n",
       "      <td>104</td>\n",
       "    </tr>\n",
       "    <tr>\n",
       "      <th>20</th>\n",
       "      <td>1998</td>\n",
       "      <td>Nagano 1998</td>\n",
       "      <td>Snowboard</td>\n",
       "      <td>127</td>\n",
       "    </tr>\n",
       "    <tr>\n",
       "      <th>21</th>\n",
       "      <td>2002</td>\n",
       "      <td>Salt Lake City 2002</td>\n",
       "      <td>Figure skating</td>\n",
       "      <td>105</td>\n",
       "    </tr>\n",
       "    <tr>\n",
       "      <th>22</th>\n",
       "      <td>2002</td>\n",
       "      <td>Salt Lake City 2002</td>\n",
       "      <td>Snowboard</td>\n",
       "      <td>119</td>\n",
       "    </tr>\n",
       "    <tr>\n",
       "      <th>23</th>\n",
       "      <td>2006</td>\n",
       "      <td>Turin 2006</td>\n",
       "      <td>Figure skating</td>\n",
       "      <td>104</td>\n",
       "    </tr>\n",
       "    <tr>\n",
       "      <th>24</th>\n",
       "      <td>2006</td>\n",
       "      <td>Turin 2006</td>\n",
       "      <td>Snowboard</td>\n",
       "      <td>198</td>\n",
       "    </tr>\n",
       "    <tr>\n",
       "      <th>25</th>\n",
       "      <td>2010</td>\n",
       "      <td>Vancouver 2010</td>\n",
       "      <td>Figure skating</td>\n",
       "      <td>103</td>\n",
       "    </tr>\n",
       "    <tr>\n",
       "      <th>26</th>\n",
       "      <td>2010</td>\n",
       "      <td>Vancouver 2010</td>\n",
       "      <td>Snowboard</td>\n",
       "      <td>189</td>\n",
       "    </tr>\n",
       "    <tr>\n",
       "      <th>27</th>\n",
       "      <td>2014</td>\n",
       "      <td>Sochi 2014</td>\n",
       "      <td>Figure skating</td>\n",
       "      <td>107</td>\n",
       "    </tr>\n",
       "    <tr>\n",
       "      <th>28</th>\n",
       "      <td>2014</td>\n",
       "      <td>Sochi 2014</td>\n",
       "      <td>Snowboard</td>\n",
       "      <td>313</td>\n",
       "    </tr>\n",
       "    <tr>\n",
       "      <th>29</th>\n",
       "      <td>2018</td>\n",
       "      <td>PyeongChang 2018</td>\n",
       "      <td>Figure skating</td>\n",
       "      <td>106</td>\n",
       "    </tr>\n",
       "    <tr>\n",
       "      <th>30</th>\n",
       "      <td>2018</td>\n",
       "      <td>PyeongChang 2018</td>\n",
       "      <td>Snowboard</td>\n",
       "      <td>308</td>\n",
       "    </tr>\n",
       "    <tr>\n",
       "      <th>31</th>\n",
       "      <td>2022</td>\n",
       "      <td>Beijing 2022</td>\n",
       "      <td>Figure skating</td>\n",
       "      <td>126</td>\n",
       "    </tr>\n",
       "    <tr>\n",
       "      <th>32</th>\n",
       "      <td>2022</td>\n",
       "      <td>Beijing 2022</td>\n",
       "      <td>Snowboard</td>\n",
       "      <td>314</td>\n",
       "    </tr>\n",
       "  </tbody>\n",
       "</table>\n",
       "</div>"
      ],
      "text/plain": [
       "    Year                 Olympic Name           Sport  Number of Participants\n",
       "0   1908                  London 1908  Figure skating                      29\n",
       "1   1920                 Antwerp 1920  Figure skating                      31\n",
       "2   1924                Chamonix 1924  Figure skating                      39\n",
       "3   1928              St. Moritz 1928  Figure skating                      56\n",
       "4   1932             Lake Placid 1932  Figure skating                      46\n",
       "5   1936  Garmisch-Partenkirchen 1936  Figure skating                      95\n",
       "6   1948              St. Moritz 1948  Figure skating                      62\n",
       "7   1952                    Oslo 1952  Figure skating                      58\n",
       "8   1956       Cortina d'Ampezzo 1956  Figure skating                      59\n",
       "9   1960            Squaw Valley 1960  Figure skating                      64\n",
       "10  1964               Innsbruck 1964  Figure skating                      79\n",
       "11  1968                Grenoble 1968  Figure skating                      85\n",
       "12  1972                 Sapporo 1972  Figure skating                      58\n",
       "13  1976               Innsbruck 1976  Figure skating                      74\n",
       "14  1980             Lake Placid 1980  Figure skating                      67\n",
       "15  1984                Sarajevo 1984  Figure skating                      93\n",
       "16  1988                 Calgary 1988  Figure skating                      93\n",
       "17  1992             Albertville 1992  Figure skating                      95\n",
       "18  1994             Lillehammer 1994  Figure skating                      99\n",
       "19  1998                  Nagano 1998  Figure skating                     104\n",
       "20  1998                  Nagano 1998       Snowboard                     127\n",
       "21  2002          Salt Lake City 2002  Figure skating                     105\n",
       "22  2002          Salt Lake City 2002       Snowboard                     119\n",
       "23  2006                   Turin 2006  Figure skating                     104\n",
       "24  2006                   Turin 2006       Snowboard                     198\n",
       "25  2010               Vancouver 2010  Figure skating                     103\n",
       "26  2010               Vancouver 2010       Snowboard                     189\n",
       "27  2014                   Sochi 2014  Figure skating                     107\n",
       "28  2014                   Sochi 2014       Snowboard                     313\n",
       "29  2018             PyeongChang 2018  Figure skating                     106\n",
       "30  2018             PyeongChang 2018       Snowboard                     308\n",
       "31  2022                 Beijing 2022  Figure skating                     126\n",
       "32  2022                 Beijing 2022       Snowboard                     314"
      ]
     },
     "execution_count": 154,
     "metadata": {},
     "output_type": "execute_result"
    }
   ],
   "source": [
    "Snow_and_Skate_per_Sport = Snow_and_Skate_df.groupby(['Year', 'Olympic Name', 'Sport'])['Olympic Host'].count().reset_index()\n",
    "Snow_and_Skate_per_Sport = Snow_and_Skate_per_Sport.rename(columns={'Olympic Host' : 'Number of Participants'})\n",
    "Snow_and_Skate_per_Sport"
   ]
  },
  {
   "cell_type": "markdown",
   "metadata": {},
   "source": [
    "# Insights\n",
    "1. There is no data for years 1912, 1916, 1940, and 1944. This is most likely because World Wars 1 and 2 were occuring during these dates. I'll add these rows to the dataframe so it's easier to see when plotted.\n",
    "1. Snowboarding was only introduced into the Olympics in 1998 in Nagano, Japan.\n",
    "1. This dataframe does not seperate mens, womens, and mixed (figure skating) which could also be another dataframe to look into in the future."
   ]
  },
  {
   "cell_type": "code",
   "execution_count": 155,
   "metadata": {},
   "outputs": [],
   "source": [
    "Snow_and_Skate_per_Sport.loc[0.1] = '1912', np.nan, np.nan, 0\n",
    "Snow_and_Skate_per_Sport.loc[0.2] = '1916', np.nan, np.nan, 0\n",
    "Snow_and_Skate_per_Sport.loc[5.1] = '1940', np.nan, np.nan, 0\n",
    "Snow_and_Skate_per_Sport.loc[5.2] = '1944', np.nan, np.nan, 0\n",
    "Snow_and_Skate_per_Sport = Snow_and_Skate_per_Sport.sort_index().reset_index(drop=True)"
   ]
  },
  {
   "cell_type": "code",
   "execution_count": 156,
   "metadata": {},
   "outputs": [
    {
     "data": {
      "text/plain": [
       "<AxesSubplot: xlabel='Year', ylabel='Number of Participants'>"
      ]
     },
     "execution_count": 156,
     "metadata": {},
     "output_type": "execute_result"
    },
    {
     "data": {
      "image/png": "[encoded data removed]",
      "text/plain": [
       "<Figure size 1500x1000 with 1 Axes>"
      ]
     },
     "metadata": {},
     "output_type": "display_data"
    }
   ],
   "source": [
    "plt.figure(figsize=(15, 10))\n",
    "sns.lineplot(data= Snow_and_Skate_per_Sport,\n",
    "             x= 'Year', y= 'Number of Participants',hue= 'Sport')"
   ]
  },
  {
   "cell_type": "code",
   "execution_count": 159,
   "metadata": {},
   "outputs": [
    {
     "data": {
      "image/png": "[encoded data removed]",
      "text/plain": [
       "<Figure size 1500x1000 with 1 Axes>"
      ]
     },
     "metadata": {},
     "output_type": "display_data"
    }
   ],
   "source": [
    "plt.figure(figsize=(15, 10))\n",
    "RQ1bar = sns.barplot(data= Snow_and_Skate_per_Sport, x= 'Year', y='Number of Participants', hue='Sport')\n",
    "RQ1bar.set_xticklabels(RQ1bar.get_xticklabels(), rotation=50)\n",
    "plt.legend(loc='upper left', title= 'Sport')\n",
    "None"
   ]
  },
  {
   "cell_type": "markdown",
   "metadata": {},
   "source": [
    "---"
   ]
  },
  {
   "cell_type": "markdown",
   "metadata": {},
   "source": [
    "# Potential Research Question 2 (if question 1 doesn't pan out)\n",
    "\n",
    "**How many athletes obtained a medal in their first appearance in the Olympics?**\n",
    "PLAN:\n",
    "- drop all na's\n",
    "- Combine Athletes DF with Results DF and check if the 'first_game' column matches the 'slug_game' column with a medal listed\n"
   ]
  },
  {
   "cell_type": "code",
   "execution_count": null,
   "metadata": {},
   "outputs": [],
   "source": [
    "mergedDF = pd.merge(OlympicResultsDF, OlympicAthletesDF, how='inner')\n",
    "mergedDF = pd.merge(mergedDF, OlympicMedalsDF, how='inner')\n",
    "OlympicHostsDF = OlympicHostsDF.rename(columns={'game_slug' : 'slug_game'})\n",
    "mergedDF = pd.merge(mergedDF, OlympicHostsDF, how='inner')"
   ]
  },
  {
   "cell_type": "code",
   "execution_count": null,
   "metadata": {},
   "outputs": [],
   "source": [
    "mergedDF = mergedDF.drop(columns=['athlete_url','value_type','games_participations','participant_type',\n",
    "                       'athletes','rank_equal','rank_position','country_name','country_code',\n",
    "                       'country_3_letter_code','athlete_year_birth','bio','athlete_medals','event_gender',\n",
    "                       'participant_title','game_end_date','game_start_date','game_season','slug_game'])"
   ]
  },
  {
   "cell_type": "code",
   "execution_count": null,
   "metadata": {},
   "outputs": [],
   "source": [
    "mergedDF = mergedDF.dropna(subset=['medal_type'])"
   ]
  },
  {
   "cell_type": "code",
   "execution_count": null,
   "metadata": {},
   "outputs": [],
   "source": [
    "mergedDF = mergedDF.sort_values('game_year')"
   ]
  },
  {
   "cell_type": "code",
   "execution_count": null,
   "metadata": {},
   "outputs": [],
   "source": [
    "mergedDF = mergedDF[mergedDF['first_game'] == mergedDF['game_name']]"
   ]
  },
  {
   "cell_type": "code",
   "execution_count": null,
   "metadata": {},
   "outputs": [],
   "source": [
    "mergedDF = mergedDF.rename(columns={'discipline_title' : 'Sport',\n",
    "                                    'event_title' : 'Sport Category',\n",
    "                                    'medal_type' : 'Medal Awarded',\n",
    "                                    'athlete_full_name' : 'Athlete Name',\n",
    "                                    'value_unit' : 'Event Score',\n",
    "                                    'first_game' : 'First Game',\n",
    "                                    'game_location' : 'Game Location',\n",
    "                                    'game_name' : 'Game Name',\n",
    "                                    'game_year' : 'Game Year'})"
   ]
  },
  {
   "cell_type": "code",
   "execution_count": null,
   "metadata": {},
   "outputs": [],
   "source": [
    "mergedDF = mergedDF.reset_index(drop=True)\n",
    "mergedDF"
   ]
  },
  {
   "cell_type": "code",
   "execution_count": null,
   "metadata": {},
   "outputs": [],
   "source": [
    "Gold = mergedDF[mergedDF['Medal Awarded'] == 'GOLD']\n",
    "Silver = mergedDF[mergedDF['Medal Awarded'] == 'SILVER']\n",
    "Bronze = mergedDF[mergedDF['Medal Awarded'] == 'BRONZE']"
   ]
  },
  {
   "cell_type": "code",
   "execution_count": null,
   "metadata": {},
   "outputs": [],
   "source": [
    "Goldticks = Gold['Sport'].unique()"
   ]
  },
  {
   "cell_type": "code",
   "execution_count": null,
   "metadata": {},
   "outputs": [],
   "source": [
    "goldPerSport = Gold[['Sport', 'Medal Awarded']].groupby('Sport').count()"
   ]
  },
  {
   "cell_type": "code",
   "execution_count": null,
   "metadata": {},
   "outputs": [],
   "source": [
    "sns.set_theme(style='darkgrid')\n",
    "plt.figure(figsize=(35,10))\n",
    "sns.lineplot(goldPerSport,markers=True)\n",
    "sns.despine\n",
    "plt.xlim(-1)\n",
    "plt.xticks(Goldticks, rotation=65)\n",
    "None"
   ]
  },
  {
   "cell_type": "markdown",
   "metadata": {},
   "source": [
    "*This linegraph plots the amount of gold medals earned by athletes in their first appearance at an Olympic event. This is a total count dating back to the 1890's until 2022. The amounts of Gold medals earned in each sport at its max is less than 500. Therefore, I can deduce that it is highly unlikely for someone new to achieve this feat.*"
   ]
  },
  {
   "cell_type": "markdown",
   "metadata": {},
   "source": [
    "---"
   ]
  },
  {
   "cell_type": "code",
   "execution_count": null,
   "metadata": {},
   "outputs": [],
   "source": [
    "dfplt = sns.histplot(mergedDF, legend=False)"
   ]
  },
  {
   "cell_type": "markdown",
   "metadata": {},
   "source": [
    "*A notable point on this graph is the lack of data between 1940 and 1945. This is presumably because of World War 2.*"
   ]
  },
  {
   "cell_type": "code",
   "execution_count": null,
   "metadata": {},
   "outputs": [],
   "source": [
    "SnwbrdDF = mergedDF[mergedDF['Sport'] == 'Snowboard']"
   ]
  },
  {
   "cell_type": "code",
   "execution_count": null,
   "metadata": {},
   "outputs": [],
   "source": [
    "SnwbrdDF = SnwbrdDF.reset_index(drop=True)\n",
    "SnwbrdDF"
   ]
  },
  {
   "cell_type": "code",
   "execution_count": null,
   "metadata": {},
   "outputs": [],
   "source": [
    "sns.histplot(SnwbrdDF, palette='Blues', legend=False, alpha=1)\n",
    "plt.title(\"Number of First Appearance Medal Winners for Snowboarding\")\n",
    "None"
   ]
  },
  {
   "cell_type": "markdown",
   "metadata": {},
   "source": [
    "# Milestone 3 EDA Conclusion\n",
    "Overall, I am not too certain on the where the line between EDA ends and when actual data analysis begins. So for this milestone, I \"tried\" to keep my visualizations simple but ran into so many errors with data wrangling that I spent far too much time on this milestone. I don't have much background with computer programming languages but I have 2 years of Java, and 1 year of R which is all self taught. Python was new to me for this class but it was simple enough to port over what I wanted to do by first thinking about how to do it in R.\n",
    "\n",
    "As for the time spent, I spent about 15-18 hours working on this milestone. Trying to deal with all the cleaning, wrangling, and attempting to sort out the -- what felt like -- infinite amount of errors. That being said, my primary research queston (and interest) is giving me some grief because I cannot figure out how to extract the athletes names from the 'athletes' column. For team sports, athletes are grouped together along with their individual url. The original dataframe loads the column in containing strings that look like lists containing tuples. I could not figure out how to isolate each persons name, and make it so that each person had a row in the research_dataframe. Doing this would allow me to properly count the number of athletes that participated. Without being able to seperate those, I don't think I can get an accurate visualization of the popularity of each sport. This leads me to my next issue I was having.\n",
    "\n",
    "Everything in my Research_DF dataframe is categorical and I could not figure out what I needed to do to get a numerical column in there for my visualizations. I'm wanting to know the total number of participants for each sport, per year that the olympics are held.\n",
    "\n",
    "Since I could not figure out my research question 1, I moved to my 2nd question and found that merging all the dataframes together and then dropping the NaN's and columns that I did not want proved to be useful. Then by comparing an individuals first appearance with the Olympic games that they won a medal at, if they were the same, then this told me they won a medal on their first appearance. This value turned out to be only 7943 individuals in the history of the Olympics (or at least the history of this dataset)."
   ]
  },
  {
   "cell_type": "markdown",
   "metadata": {},
   "source": [
    "---"
   ]
  }
 ],
 "metadata": {
  "kernelspec": {
   "display_name": "Python 3 (ipykernel)",
   "language": "python",
   "name": "python3"
  },
  "language_info": {
   "codemirror_mode": {
    "name": "ipython",
    "version": 3
   },
   "file_extension": ".py",
   "mimetype": "text/x-python",
   "name": "python",
   "nbconvert_exporter": "python",
   "pygments_lexer": "ipython3",
   "version": "3.10.8"
  }
 },
 "nbformat": 4,
 "nbformat_minor": 4
}
