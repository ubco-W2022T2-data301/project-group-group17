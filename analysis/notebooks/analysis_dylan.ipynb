{
 "cells": [
  {
   "cell_type": "markdown",
   "metadata": {},
   "source": [
    "# Dylan Forsythe\n",
    "Last update: 03-19-2023"
   ]
  },
  {
   "cell_type": "markdown",
   "metadata": {},
   "source": [
    "## Research Interests\n",
    "\n",
    "Upon being introduced to the applications of statistics, \n",
    "I developed a passion for data science as it allows me to express the creative side that I never knew I had. I am constantly being introduced to various methods and models that allow me to explore data and extract information that is hidden behind a table of numbers and letters. Creating the graphs, tables, charts, and reports from the data is where all that creativity goes. The creativity and freedom here grants me the ability to find hidden stories in the data that are not apparent without the steps involved with data analysis.\n",
    "\n",
    "For this project, my interest is in learning about the popularities of some of the sports over the history that the sport has been played in the Olympics. So far, I'm mostly interested in winter olympic sports like snowboarding and skating because I recently learned how to snowboard, and figure skating simply because I think its a pretty sport to watch. I am hoping to find the information necessary to answer my questions by looking at how many participants are in the Olympics in each of these sports in each year.\n",
    "\n",
    "I am also keen on finding out how many athletes actually win a medal in their first appearance at an Olympic games. This should be fairly easy to find if there exists a column that lists each athletes first year of participation. With this info, all I will need to do is check if they won a medal in that year."
   ]
  },
  {
   "cell_type": "markdown",
   "metadata": {},
   "source": [
    "# Research Question 1\n",
    "> **How have the popularities of similar sports (i.e. amount of participants / competitors) changed over time in the Olympics?**\n",
    "\n",
    "This question peaks my interest because I was curious about how the popularity of sports has changed over time."
   ]
  },
  {
   "cell_type": "markdown",
   "metadata": {
    "tags": []
   },
   "source": [
    "# Research Question 2\n",
    "\n",
    ">**How many athletes obtained a medal in their first appearance in the Olympics?**\n",
    "\n",
    "This question interests me because I was curious to know the percentage of athletes that have won a medal in their first appearance at the Olympic games."
   ]
  },
  {
   "cell_type": "markdown",
   "metadata": {},
   "source": [
    "---"
   ]
  },
  {
   "cell_type": "markdown",
   "metadata": {},
   "source": [
    "# Exploratory Data Analysis for Question 1\n",
    "**Exploration Plan:** To find out this information, I will need to get an idea of what columns each dataframe has. Then my plan is to first merge all of the together and drop all of the columns that I think are irrelevent information for this question. I should also find how many unique sports there are to get an idea of what kind of visualization I could use.\n",
    "\n",
    "Since my research question is looking at \"similar\" sports, I should write a function that will allow me to specify which sports I want to look at. Having this function will help with the repeatability of my analysis in case I want to analyze and compare many similar sports.\n",
    "\n",
    "Then, to do this comparison, I'll group this new dataframe by year, Olympic host location, and the sport which will count how many participants there were per sport in each year."
   ]
  },
  {
   "cell_type": "code",
   "execution_count": 21,
   "metadata": {},
   "outputs": [
    {
     "ename": "ImportError",
     "evalue": "cannot import name 'project_functions_dylan' from 'code' (/Users/dylan/miniconda3/lib/python3.10/code.py)",
     "output_type": "error",
     "traceback": [
      "\u001b[0;31m---------------------------------------------------------------------------\u001b[0m",
      "\u001b[0;31mImportError\u001b[0m                               Traceback (most recent call last)",
      "Cell \u001b[0;32mIn[21], line 5\u001b[0m\n\u001b[1;32m      3\u001b[0m \u001b[38;5;28;01mimport\u001b[39;00m \u001b[38;5;21;01msys\u001b[39;00m\n\u001b[1;32m      4\u001b[0m sys\u001b[38;5;241m.\u001b[39mpath\u001b[38;5;241m.\u001b[39mappend(\u001b[38;5;124m\"\u001b[39m\u001b[38;5;124m..\u001b[39m\u001b[38;5;124m\"\u001b[39m)\n\u001b[0;32m----> 5\u001b[0m \u001b[38;5;28;01mfrom\u001b[39;00m \u001b[38;5;21;01mcode\u001b[39;00m \u001b[38;5;28;01mimport\u001b[39;00m project_functions_dylan \u001b[38;5;28;01mas\u001b[39;00m pfd\n",
      "\u001b[0;31mImportError\u001b[0m: cannot import name 'project_functions_dylan' from 'code' (/Users/dylan/miniconda3/lib/python3.10/code.py)"
     ]
    }
   ],
   "source": [
    "### Import libraries\n",
    "\n",
    "import sys\n",
    "sys.path.append(\"..\")\n",
    "from code import project_functions_dylan as pfd"
   ]
  },
  {
   "cell_type": "code",
   "execution_count": null,
   "metadata": {},
   "outputs": [],
   "source": [
    "### Set the base theme for seaborn graphs\n",
    "\n",
    "sns.set_theme(style='darkgrid',font_scale=1.2)"
   ]
  },
  {
   "cell_type": "code",
   "execution_count": null,
   "metadata": {},
   "outputs": [],
   "source": [
    "### Read raw data and save into seperate df's\n",
    "\n",
    "OlympicResultsDF = pd.read_csv('../../data/raw/Olympic_Summer_Winter_Games_1986-2022/olympic_results.csv')\n",
    "OlympicHostsDF = pd.read_csv('../../data/raw/Olympic_Summer_Winter_Games_1986-2022/olympic_hosts.csv')\n",
    "OlympicMedalsDF = pd.read_csv('../../data/raw/Olympic_Summer_Winter_Games_1986-2022/olympic_medals.csv')\n",
    "OlympicAthletesDF = pd.read_csv('../../data/raw/Olympic_Summer_Winter_Games_1986-2022/olympic_athletes.csv')"
   ]
  },
  {
   "cell_type": "code",
   "execution_count": null,
   "metadata": {},
   "outputs": [],
   "source": [
    "### Checking the shape and heads and column names of each dataframe to get an idea of what information each one contains\n",
    "### I have commented these out because it's a lot of ugly looking info\n",
    "\n",
    "# print(OlympicResultsDF.shape)\n",
    "# print(OlympicResultsDF.head())\n",
    "# print(OlympicResultsDF.columns)\n",
    "\n",
    "# print(OlympicHostsDF.shape)\n",
    "# print(OlympicHostsDF.head())\n",
    "# print(OlympicHostsDF.columns)\n",
    "\n",
    "# print(OlympicMedalsDF.shape)\n",
    "# print(OlympicMedalsDF.head())\n",
    "# print(OlympicMedalsDF.columns)\n",
    "\n",
    "# print(OlympicAthletesDF.shape)\n",
    "# print(OlympicAthletesDF.head())\n",
    "# print(OlympicAthletesDF.columns)"
   ]
  },
  {
   "cell_type": "markdown",
   "metadata": {},
   "source": [
    "## Findings:\n",
    "* The OlympicResultsDF dataframe has 162804 rows and 15 columns, many NaN values though they don't seem to have any importance to my research question.\n",
    "* The OlympicHostsDF dataframe has 53 rows and 7 columns but the only information that seems relevant (if at all) would be 'game_year' or 'game_name'\n",
    "* The OlympicMedalsDF dataframe has 21697 rows and 12 columns\n",
    "* The OlympicAthletesDF dataframe has 75904 rows and 7 columns with very helpful information on each athlete\n",
    "\n",
    "Since the OlympicResultsDF has the most rows, I'll use that as the first dataframe and merge the rest into it on columns that they share. Then drop all of the columns that I will not use for my research."
   ]
  },
  {
   "cell_type": "code",
   "execution_count": null,
   "metadata": {},
   "outputs": [],
   "source": [
    "### Merging all the dataframes\n",
    "\n",
    "Research_df_merged_full = pd.merge(OlympicResultsDF, OlympicAthletesDF, how='outer')\n",
    "Research_df_merged_full = pd.merge(Research_df_merged_full, OlympicMedalsDF, how='outer')\n",
    "Research_df_merged_full = pd.merge(Research_df_merged_full, OlympicHostsDF, left_on='slug_game', right_on='game_slug')\n",
    "#Research_df_merged_full"
   ]
  },
  {
   "cell_type": "code",
   "execution_count": null,
   "metadata": {},
   "outputs": [],
   "source": [
    "### Dropping the columns I don't need and viewing the unique sports\n",
    "\n",
    "Research1_df_merged_filtered = Research_df_merged_full.drop(columns=['medal_type','first_game','athlete_full_name',\n",
    "                                                      'game_slug','athletes','value_unit','value_type',\n",
    "                                                      'games_participations','athlete_url','participant_type',\n",
    "                                                      'rank_equal','rank_position','event_gender','country_name',\n",
    "                                                      'country_code','country_3_letter_code','athlete_year_birth','bio',\n",
    "                                                      'athlete_medals','participant_title','game_end_date',\n",
    "                                                      'game_start_date','game_season','slug_game'])\n",
    "#Research1_df_merged_filtered\n",
    "\n",
    "### To see the exact name of the sports in the whole dataframe:\n",
    "\n",
    "Research1_df_merged_filtered.discipline_title.unique()"
   ]
  },
  {
   "cell_type": "markdown",
   "metadata": {},
   "source": [
    "Now that I have a list of all unique sports that have ever been in the Olympics, I can create the function to isolate which sports I want to compare. This is done as part of the analysis later on."
   ]
  },
  {
   "cell_type": "markdown",
   "metadata": {},
   "source": [
    "---"
   ]
  },
  {
   "cell_type": "markdown",
   "metadata": {},
   "source": [
    "# Exploratory Data Analysis for Question 2\n",
    "Using a copy of the merged dataframe created for the first research question, I'll drop different columns that are not relevent to this question. I'll also drop all of the rows that contain a NaN value because any athlete that didn't win a medal, will have an NaN value in the 'medal_type' column.\n",
    "Then by looking at the rows where the 'first_game' column and the 'game_name' column match values, we find the participants that won any medal in their first appearance."
   ]
  },
  {
   "cell_type": "code",
   "execution_count": null,
   "metadata": {},
   "outputs": [],
   "source": [
    "Research2_df = Research_df_merged_full.copy()\n",
    "\n",
    "RQ2_First_medal = (Research2_df[Research2_df['first_game'] == Research2_df['game_name']]\n",
    "                   .drop(columns=['discipline_title', 'game_slug', 'slug_game', 'event_title', 'participant_type', \n",
    "                           'athletes', 'rank_equal', 'rank_position', 'country_name', 'country_code', \n",
    "                           'country_3_letter_code', 'athlete_url', 'value_unit', 'value_type', \n",
    "                           'games_participations', 'athlete_year_birth', 'athlete_medals', 'bio', 'event_gender', \n",
    "                           'participant_title', 'game_end_date', 'game_start_date', 'game_season'])\n",
    "                   .rename(columns={'medal_type' : 'Medal Won', 'athlete_full_name' : 'Athlete Name',\n",
    "                     'first_game' : 'First Game', 'game_location' : 'Host Country', \n",
    "                     'game_name' : 'Game Name','game_year' : 'Year'})\n",
    "                   .dropna()\n",
    "                   .reset_index(drop=True))\n",
    "RQ2_First_medal"
   ]
  },
  {
   "cell_type": "markdown",
   "metadata": {},
   "source": [
    "**NOTES:**  \n",
    "* This dataframe shows the athletes that won a medal in their first appearance to an Olympic games. The answer to my second research question is thus 7995 athletes.\n",
    "\n",
    "* This table doesn't seperate the amount that won each medal type which would also be something I can find out. My initial thoughts is that there are considerably more bronze medal winner than silver medal winners, and more silver medal winners than gold medal winners."
   ]
  },
  {
   "cell_type": "code",
   "execution_count": null,
   "metadata": {},
   "outputs": [],
   "source": [
    "### Finding how many won a gold medal in their first appearance\n",
    "\n",
    "Gold = RQ2_First_medal[RQ2_First_medal['Medal Won'] == 'GOLD']\n",
    "Gold.shape"
   ]
  },
  {
   "cell_type": "code",
   "execution_count": null,
   "metadata": {},
   "outputs": [],
   "source": [
    "Silver = RQ2_First_medal[RQ2_First_medal['Medal Won'] == 'SILVER']\n",
    "Silver.shape"
   ]
  },
  {
   "cell_type": "code",
   "execution_count": null,
   "metadata": {},
   "outputs": [],
   "source": [
    "Bronze = RQ2_First_medal[RQ2_First_medal['Medal Won'] == 'BRONZE']\n",
    "Bronze.shape"
   ]
  },
  {
   "cell_type": "markdown",
   "metadata": {},
   "source": [
    "## Observations\n",
    "By seperating the First_medal dataframe into 3 seperate dataframes based on the medal type, I have found that the distribution between gold, silver, and bronze medal winners is not what I would have expected.\n",
    "\n",
    "The distribution is:\n",
    "\n",
    "| Medal | Number |\n",
    "| ---- | ---- |\n",
    "| Gold | 2500 |\n",
    "| Silver | 2537 |\n",
    "| Bronze | 2958 |\n",
    "\n",
    "\n",
    "In the next portion of data analysis, I can plot these results as a simple bar plot."
   ]
  },
  {
   "cell_type": "markdown",
   "metadata": {},
   "source": [
    "---\n",
    "\n",
    "<h3 align=\"center\">End of EDA</h3> \n",
    "\n",
    "---"
   ]
  },
  {
   "cell_type": "markdown",
   "metadata": {},
   "source": [
    "# Data Analysis \n",
    "## Question 1.1: How has the popularity of snowboarding and all of the skiing events changed over time?"
   ]
  },
  {
   "cell_type": "code",
   "execution_count": null,
   "metadata": {},
   "outputs": [],
   "source": [
    "# def sportpopularity(data, *args):\n",
    "#     \"\"\"\n",
    "#     Returns a dataframe with only the passed-in sports.\n",
    "    \n",
    "#     Parameters:\n",
    "#     -----------\n",
    "#     data:\n",
    "#         The dataframe to extract information from.\n",
    "        \n",
    "#     *args:\n",
    "#         Any number of sport names that you wish to look at.\n",
    "        \n",
    "#     Returns\n",
    "#     -------\n",
    "#     Dataframe\n",
    "#     \"\"\"\n",
    "    \n",
    "#     sports = []\n",
    "#     for i in args:\n",
    "#         sports.append(i)\n",
    "        \n",
    "#     isolated_sports_df = data[data['discipline_title'].isin(sports)]\n",
    "    \n",
    "#     isolated_sports_df = isolated_sports_df.rename(columns={'discipline_title' : 'Sport',\n",
    "#                                   'event_title' : 'Sporting Event Name',\n",
    "#                                   'game_location' : 'Olympic Host',\n",
    "#                                   'game_name' : 'Olympic Name',\n",
    "#                                   'game_year' : 'Year'})\n",
    "#     isolated_sports_df = isolated_sports_df.reset_index(drop=True)\n",
    "    \n",
    "#     return isolated_sports_df"
   ]
  },
  {
   "cell_type": "code",
   "execution_count": null,
   "metadata": {},
   "outputs": [],
   "source": [
    "### Since we only want to look at the sports of Snowboarding and each skiing discipline, I want to make a dataframe \n",
    "### containing only these sports\n",
    "\n",
    "Snow_and_Ski_df = sportpopularity(Research1_df_merged_filtered, 'Snowboard','Biathlon', 'Freestyle Skiing', 'Ski Jumping', \n",
    "                                  'Alpine Skiing', 'Cross Country Skiing', 'Nordic Combined')\n",
    "#Snow_and_Ski_df"
   ]
  },
  {
   "cell_type": "code",
   "execution_count": null,
   "metadata": {},
   "outputs": [],
   "source": [
    "### Now I can group this dataframe on year, and sport and count the number of participants\n",
    "\n",
    "Snow_and_Ski_grouped = Snow_and_Ski_df.groupby(by=['Year', 'Sport'])[['Olympic Name']].count().reset_index()\n",
    "Snow_and_Ski_grouped.rename(columns={'Olympic Name' : 'Number of Participants'}, inplace=True)\n",
    "Snow_and_Ski_grouped"
   ]
  },
  {
   "cell_type": "markdown",
   "metadata": {},
   "source": [
    "**NOTE:**  \n",
    "Based on this table, I want the 'Year' column on the x-axis with the 'Number of Participants' on the y-axis, and a line representing each sport. A simple line-plot should portray the differences per year thereby showing how the popularity of each sport has changed over time."
   ]
  },
  {
   "cell_type": "code",
   "execution_count": null,
   "metadata": {},
   "outputs": [],
   "source": [
    "plt.figure(figsize=(25, 10))\n",
    "RQ1_plot1 = sns.lineplot(data = Snow_and_Ski_grouped, x='Year', y= 'Number of Participants', \n",
    "                        alpha= 0.9, hue= 'Sport', marker='.', markersize=10, palette='bright')\n",
    "sns.despine()\n",
    "RQ1_plot1.set_xticks(Snow_and_Ski_grouped['Year'])\n",
    "RQ1_plot1.set_xticklabels(RQ1_plot1.get_xticklabels(), rotation=60, ha= 'right', rotation_mode= 'anchor')\n",
    "plt.title(\"Popularities of Snowboarding and Various Skiing Events in the History of the Olympics\", fontsize= 30)\n",
    "plt.legend(loc='upper left', title= 'Sport')\n",
    "None"
   ]
  },
  {
   "cell_type": "markdown",
   "metadata": {},
   "source": [
    "## Observations\n",
    "1. There is no initial data for these sports during the years 1940 and 1944, and these years are missing from the list. This is because World War 2 was occuring during these dates.\n",
    "1. There was a large increase in popularity for Alpine Skiing between 1936 and 1948, and again from 1984 to 1988.\n",
    "1. Cross Country Skiing also had a large increase in popularity between 1984 and 1988.\n",
    "1. Snowboarding was only introduced into the Olympics in 1998 in Nagano, Japan.\n",
    "1. The Winter Olympics were held in 1992 and 1994 (2-year difference as opposed to the normal 4 years)."
   ]
  },
  {
   "cell_type": "markdown",
   "metadata": {},
   "source": [
    "---"
   ]
  },
  {
   "cell_type": "markdown",
   "metadata": {},
   "source": [
    "## Question 1.2: How did the popularity of skating events change over time?"
   ]
  },
  {
   "cell_type": "code",
   "execution_count": null,
   "metadata": {},
   "outputs": [],
   "source": [
    "### Using my function to make a dataframe with only the skating related sports\n",
    "\n",
    "Skating_df = sportpopularity(Research1_df_merged_filtered, 'Short Track Speed Skating', 'Figure skating', 'Speed skating')"
   ]
  },
  {
   "cell_type": "code",
   "execution_count": null,
   "metadata": {},
   "outputs": [],
   "source": [
    "### Following the same analysis procedure as my initial question, group by year and sport\n",
    "Skating_df_grouped = Skating_df.groupby(by=['Year', 'Sport'])[['Olympic Name']].count().reset_index()\n",
    "Skating_df_grouped.rename(columns={'Olympic Name' : 'Number of Participants'}, inplace=True)\n",
    "#Skating_df_grouped"
   ]
  },
  {
   "cell_type": "code",
   "execution_count": null,
   "metadata": {},
   "outputs": [],
   "source": [
    "RQ1_facet = sns.FacetGrid(Skating_df_grouped, col='Sport', hue='Sport', col_wrap=3, height=4, aspect=1.5)\n",
    "RQ1_facet.map(plt.plot, 'Year', 'Number of Participants')\n",
    "RQ1_facet = RQ1_facet.map(plt.fill_between, 'Year', 'Number of Participants', alpha=0.2).set_titles(\"{col_name}\")\n",
    "plt.subplots_adjust(top= 0.8)\n",
    "plt.suptitle('Population Trends in Skating Events in the Winter Olympics', fontsize= 20)\n",
    "None"
   ]
  },
  {
   "cell_type": "markdown",
   "metadata": {},
   "source": [
    "## Observations\n",
    "1. There appears to be a nearly 100% increase in participants in Short Track Speed Skating between 1992 and 1994, but also we can see that the number of participants in Speed skating decreased over the same years. This could suggest a negative correlation between the two events.\n",
    "1. The number of people entering Speed Skating has slowly decreased over the past 20 years.\n",
    "1. Figure Skating has had the most consistent number of competitors over the history of these three sports.\n"
   ]
  },
  {
   "cell_type": "markdown",
   "metadata": {},
   "source": [
    "---"
   ]
  },
  {
   "cell_type": "markdown",
   "metadata": {},
   "source": [
    "## Question 1.3: What are the popularity trends for every sport ever played at the Olympics?"
   ]
  },
  {
   "cell_type": "code",
   "execution_count": null,
   "metadata": {},
   "outputs": [],
   "source": [
    "AllSports = sportpopularity(Research_df_merged_full, 'Curling', 'Freestyle Skiing', 'Short Track Speed Skating',\n",
    "       'Snowboard', 'Ski Jumping', 'Figure skating', 'Luge', 'Ice Hockey',\n",
    "       'Biathlon', 'Alpine Skiing', 'Cross Country Skiing',\n",
    "       'Speed skating', 'Nordic Combined', 'Bobsleigh', 'Skeleton',\n",
    "       'Shooting', 'Diving', 'Canoe Sprint', 'Football',\n",
    "       'Artistic Swimming', 'Handball', 'Rugby Sevens', 'Triathlon',\n",
    "       'Table Tennis', 'Volleyball', 'Basketball', 'Cycling Track',\n",
    "       'Fencing', 'Badminton', 'Water Polo', 'Tennis',\n",
    "       'Artistic Gymnastics', 'Judo', 'Archery', 'Baseball/Softball',\n",
    "       'Equestrian', 'Athletics', 'Swimming', 'Sailing', 'Rowing',\n",
    "       '3x3 Basketball', 'Rhythmic Gymnastics', 'Hockey',\n",
    "       'Beach Volleyball', 'Skateboarding', 'Cycling Mountain Bike',\n",
    "       'Cycling Road', 'Boxing', 'Cycling BMX Racing', 'Surfing',\n",
    "       'Canoe Slalom', 'Marathon Swimming', 'Trampoline Gymnastics',\n",
    "       'Taekwondo', 'Sport Climbing', 'Wrestling', 'Golf',\n",
    "       'Cycling BMX Freestyle', 'Weightlifting', 'Modern Pentathlon',\n",
    "       'Karate', 'Short Track', 'Rugby', 'Gymnastics Rhythmic',\n",
    "       'Equestrian Jumping', 'Gymnastics Artistic',\n",
    "       'Synchronized Swimming', 'Equestrian Eventing',\n",
    "       'Equestrian Dressage', 'Cycling BMX', 'Trampoline', 'Baseball',\n",
    "       'Softball', 'Canoe Marathon', 'Polo', 'Military Patrol',\n",
    "       'Tug of War', 'Equestrian  Vaulting', 'Water Motorsports',\n",
    "       'Lacrosse', 'Rackets', 'Jeu de Paume', 'Roque', 'Cricket',\n",
    "       'Croquet', 'Basque Pelota')\n",
    "AllSports_grouped = (AllSports.groupby(by=['Year', 'Sport'])[['Olympic Name']].count()\n",
    "                    .sort_values(['Year', 'Sport'], ascending=True)\n",
    "                    .rename(columns={'Olympic Name' : 'Number of Participants'})\n",
    "                    .reset_index())"
   ]
  },
  {
   "cell_type": "code",
   "execution_count": null,
   "metadata": {},
   "outputs": [],
   "source": [
    "### Since we're going to look at every sport, a facetgrid might be the simplest way of viewing the changes in \n",
    "### participants for every sport over the years that they've been actively played.\n",
    "\n",
    "RQ3_facet = sns.FacetGrid(AllSports_grouped, col='Sport', col_wrap=5, height=4, aspect=1.5, sharey=False, despine=True)\n",
    "RQ3_facet = RQ3_facet.map(plt.plot, 'Year', 'Number of Participants')\n",
    "RQ3_facet = RQ3_facet.map(plt.fill_between, 'Year', 'Number of Participants', alpha=0.2).set_titles(\"{col_name}\")\n",
    "RQ3_facet.fig.suptitle('Popularity Trends of Every Sport in the History of the Olympics', fontsize=40)\n",
    "plt.subplots_adjust(top=0.96)"
   ]
  },
  {
   "cell_type": "markdown",
   "metadata": {},
   "source": [
    "## Observations\n",
    "There appears to be quite a few sports that did not have a long enough run in the Olympics to plot anything since I have kept the x-axis length consistant. Since I wanted to observe the popularity trends in the number of participants for each sport, I did not share the y-axis scale for each sport so it will show a 'zoomed in' plot of the values that each plot contained. This will only be used to visually observe if there is a positive or negative trend in the popularity and should not be compared to any other plot."
   ]
  },
  {
   "cell_type": "markdown",
   "metadata": {},
   "source": [
    "---"
   ]
  },
  {
   "cell_type": "markdown",
   "metadata": {},
   "source": [
    "# Data analysis Research Question 2:\n",
    "\n",
    "**Note:** Since the exploratory data analysis section above was all it took to answer my second research question, I will just produce a graph to show the results."
   ]
  },
  {
   "cell_type": "code",
   "execution_count": null,
   "metadata": {},
   "outputs": [],
   "source": [
    "RQ2_plot = sns.countplot(RQ2_First_medal, x= 'Medal Won')\n",
    "RQ2_plot.set(title= 'Medal Distribution of those that won a medal in their first Olympic games', ylabel='Count')\n",
    "None"
   ]
  },
  {
   "cell_type": "code",
   "execution_count": null,
   "metadata": {},
   "outputs": [],
   "source": [
    "### Finding the percentage of people that won a medal in their first performance\n",
    "\n",
    "round(len(RQ2_First_medal) / len(Research_df_merged_full), 3) *100"
   ]
  },
  {
   "cell_type": "markdown",
   "metadata": {},
   "source": [
    "## Observations\n",
    "1. After dropping all NaN values in my RQ2_First_medal dataframe, I'm left with 7995 rows meaning there are 7995 Olympic athletes to win an Olympic medal in their first appearance. Based on the number of rows in the unfiltered dataset, the percentage of competitors to win a medal in their first appearance is 4.8%. \n",
    "\n",
    "    *Please note that this percentage is not the result of finding the individual probability in each sport that an athlete won a medal*\n",
    "    \n",
    "1. The medal type distribution is fairly close which is a little unexpected. I expected to see far less gold medals than silver and bronze medals."
   ]
  },
  {
   "cell_type": "markdown",
   "metadata": {},
   "source": [
    "---"
   ]
  },
  {
   "cell_type": "markdown",
   "metadata": {},
   "source": [
    "# Conclusions\n"
   ]
  }
 ],
 "metadata": {
  "kernelspec": {
   "display_name": "Python 3 (ipykernel)",
   "language": "python",
   "name": "python3"
  },
  "language_info": {
   "codemirror_mode": {
    "name": "ipython",
    "version": 3
   },
   "file_extension": ".py",
   "mimetype": "text/x-python",
   "name": "python",
   "nbconvert_exporter": "python",
   "pygments_lexer": "ipython3",
   "version": "3.10.8"
  }
 },
 "nbformat": 4,
 "nbformat_minor": 4
}
